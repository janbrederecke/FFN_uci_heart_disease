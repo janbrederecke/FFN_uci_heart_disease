{
 "cells": [
  {
   "cell_type": "markdown",
   "metadata": {},
   "source": [
    "# A Feed Forward Network to Predict Heart Disease"
   ]
  },
  {
   "cell_type": "code",
   "execution_count": 1,
   "metadata": {},
   "outputs": [
    {
     "name": "stderr",
     "output_type": "stream",
     "text": [
      "/var/folders/wk/cgsrf1m50qx268ccx7b33rdr0000gn/T/ipykernel_27174/4185160223.py:12: DeprecationWarning: `set_matplotlib_formats` is deprecated since IPython 7.23, directly use `matplotlib_inline.backend_inline.set_matplotlib_formats()`\n",
      "  display.set_matplotlib_formats(\"svg\")\n"
     ]
    }
   ],
   "source": [
    "# Load libraries / packages / functions\n",
    "import pandas as pd\n",
    "import numpy as np\n",
    "import matplotlib.pyplot as plt\n",
    "from torch.utils.data import DataLoader, TensorDataset\n",
    "import torch\n",
    "from sklearn.preprocessing import StandardScaler\n",
    "from sklearn.model_selection import train_test_split\n",
    "\n",
    "# Change the graphics settings to display vector graphics for prettier outputs\n",
    "from IPython import display\n",
    "display.set_matplotlib_formats(\"svg\")\n",
    "\n",
    "# Self-defined functions in python scripts in this project\n",
    "# (some imports are likely to be redundant)\n",
    "from read_data import read_data\n",
    "from FFNHeartDisease import FFNHeartDisease\n",
    "from initiate_model import initiate_model\n",
    "from train_model import train_model"
   ]
  },
  {
   "cell_type": "code",
   "execution_count": 2,
   "metadata": {},
   "outputs": [
    {
     "name": "stdout",
     "output_type": "stream",
     "text": [
      "(303, 14)\n",
      "0     float64\n",
      "1     float64\n",
      "2     float64\n",
      "3     float64\n",
      "4     float64\n",
      "5     float64\n",
      "6     float64\n",
      "7     float64\n",
      "8     float64\n",
      "9     float64\n",
      "10    float64\n",
      "11     object\n",
      "12     object\n",
      "13      int64\n",
      "dtype: object\n"
     ]
    }
   ],
   "source": [
    "# Read the data and get a small glimpse at the data (pd.DataFrame)\n",
    "data = read_data()[0]\n",
    "print(data.shape)\n",
    "print(data.dtypes)"
   ]
  },
  {
   "cell_type": "code",
   "execution_count": 3,
   "metadata": {},
   "outputs": [
    {
     "name": "stdout",
     "output_type": "stream",
     "text": [
      "(297, 14)\n",
      "0     float64\n",
      "1     float64\n",
      "2     float64\n",
      "3     float64\n",
      "4     float64\n",
      "5     float64\n",
      "6     float64\n",
      "7     float64\n",
      "8     float64\n",
      "9     float64\n",
      "10    float64\n",
      "11    float64\n",
      "12    float64\n",
      "13    float64\n",
      "dtype: object\n"
     ]
    }
   ],
   "source": [
    "# Remove rows with missing values (?)\n",
    "\n",
    "data = data.replace(\"?\", np.nan)\n",
    "data = data.dropna(axis = 0)\n",
    "print(data.shape)\n",
    "data = data.astype(float)\n",
    "print(data.dtypes)\n"
   ]
  },
  {
   "cell_type": "code",
   "execution_count": 4,
   "metadata": {},
   "outputs": [],
   "source": [
    "# Divide data into the predictors and outcomes\n",
    "y = np.zeros(len(data))\n",
    "y[data[13] > 0] = 1\n",
    "X = data.iloc[:, :13]"
   ]
  },
  {
   "cell_type": "code",
   "execution_count": 5,
   "metadata": {},
   "outputs": [
    {
     "name": "stdout",
     "output_type": "stream",
     "text": [
      "(237, 13) (237,)\n",
      "(30, 13) (30,)\n",
      "(30, 13) (30,)\n"
     ]
    }
   ],
   "source": [
    "# Train-test-split the data + create a holdout set\n",
    "X_train, X_test, y_train, y_test = train_test_split(X, y,\n",
    "                                                    test_size = 0.2,\n",
    "                                                    random_state = 42)\n",
    "X_test, X_holdout, y_test, y_holdout = train_test_split(X_test, y_test,\n",
    "                                                        test_size = 0.5,\n",
    "                                                        random_state = 42)\n",
    "print(X_train.shape, y_train.shape)\n",
    "print(X_test.shape, y_test.shape)\n",
    "print(X_holdout.shape, y_holdout.shape)"
   ]
  },
  {
   "cell_type": "code",
   "execution_count": 6,
   "metadata": {},
   "outputs": [],
   "source": [
    "# Standardize the predictors \n",
    "scaler      = StandardScaler()\n",
    "\n",
    "X_train     = scaler.fit_transform(X_train)\n",
    "X_test      = scaler.transform(X_test)\n",
    "X_holdout   = scaler.transform(X_holdout)"
   ]
  },
  {
   "cell_type": "code",
   "execution_count": 7,
   "metadata": {},
   "outputs": [],
   "source": [
    "# Turn the data into torch.Tensors, TensorDatasets, and finally DataLoaders\n",
    "## Training data\n",
    "train_data      = torch.Tensor(X_train).float()\n",
    "train_labels    = torch.Tensor(np.array(y_train)[:, None]).float() \n",
    "train_set       = TensorDataset(train_data, train_labels)\n",
    "\n",
    "# Test data\n",
    "test_data       = torch.Tensor(X_test).float()\n",
    "test_labels     = torch.Tensor(np.array(y_test)[:, None]).float()\n",
    "test_set        = TensorDataset(test_data, test_labels)\n",
    "\n",
    "# Holdout data\n",
    "holdout_data    = torch.Tensor(X_holdout).float()\n",
    "holdout_labels  = torch.Tensor(np.array(y_holdout)[:, None]).float()\n",
    "holdout_set     = TensorDataset(holdout_data, holdout_labels)"
   ]
  },
  {
   "cell_type": "code",
   "execution_count": 58,
   "metadata": {},
   "outputs": [],
   "source": [
    "BATCHSIZE = 16\n",
    "DEPTH = 2\n",
    "WIDTH = 256\n",
    "DROPOUT = 0.6\n",
    "BATCHNORMALIZE = True\n",
    "LEARNINGRATE = 0.001\n",
    "EPOCHS = 300"
   ]
  },
  {
   "cell_type": "code",
   "execution_count": 59,
   "metadata": {},
   "outputs": [],
   "source": [
    "# Create DataLoaders\n",
    "train_loader = DataLoader(train_set,\n",
    "                          batch_size = BATCHSIZE,\n",
    "                          drop_last = True,\n",
    "                          shuffle = True)\n",
    "test_loader = DataLoader(test_set,\n",
    "                         batch_size = test_set.tensors[0].shape[0],\n",
    "                         drop_last = True,\n",
    "                         shuffle = True)\n",
    "holdout_loader = DataLoader(holdout_set,\n",
    "                            batch_size = holdout_set.tensors[0].shape[0],\n",
    "                            drop_last = True,\n",
    "                            shuffle = True)"
   ]
  },
  {
   "cell_type": "code",
   "execution_count": 60,
   "metadata": {},
   "outputs": [],
   "source": [
    "# Test the model and loss function\n",
    "model_instance, loss_function, optimizer = initiate_model(depth=DEPTH,\n",
    "                                                          width=WIDTH,\n",
    "                                                          dropout=DROPOUT,\n",
    "                                                          batch_normalize=BATCHNORMALIZE)\n",
    "X, y = next(iter(train_loader))\n",
    "y_hat = model_instance(X)\n",
    "\n",
    "#loss_function(y_hat, y)\n",
    "#torch.sigmoid(y_hat, )"
   ]
  },
  {
   "cell_type": "code",
   "execution_count": 61,
   "metadata": {},
   "outputs": [
    {
     "name": "stdout",
     "output_type": "stream",
     "text": [
      "Going to train 300 epochs.\n",
      "Training epoch 0\n",
      "Training epoch 10,\n",
      "             last trainloss was 0.33174604177474976,\n",
      "             last trainaccuracy was 83.03571319580078,\n",
      "             last testaccuracy was 83.33332824707031\n",
      "Training epoch 20,\n",
      "             last trainloss was 0.22723524272441864,\n",
      "             last trainaccuracy was 87.94642639160156,\n",
      "             last testaccuracy was 86.66666412353516\n",
      "Training epoch 30,\n",
      "             last trainloss was 0.19543270766735077,\n",
      "             last trainaccuracy was 91.51786041259766,\n",
      "             last testaccuracy was 90.0\n",
      "Training epoch 40,\n",
      "             last trainloss was 0.20565418899059296,\n",
      "             last trainaccuracy was 91.07142639160156,\n",
      "             last testaccuracy was 86.66666412353516\n",
      "Training epoch 50,\n",
      "             last trainloss was 0.16260403394699097,\n",
      "             last trainaccuracy was 91.96428680419922,\n",
      "             last testaccuracy was 86.66666412353516\n",
      "Training epoch 60,\n",
      "             last trainloss was 0.16111890971660614,\n",
      "             last trainaccuracy was 93.75,\n",
      "             last testaccuracy was 90.0\n",
      "Training epoch 70,\n",
      "             last trainloss was 0.16612207889556885,\n",
      "             last trainaccuracy was 94.64286041259766,\n",
      "             last testaccuracy was 86.66666412353516\n",
      "Training epoch 80,\n",
      "             last trainloss was 0.0814916342496872,\n",
      "             last trainaccuracy was 96.875,\n",
      "             last testaccuracy was 86.66666412353516\n",
      "Training epoch 90,\n",
      "             last trainloss was 0.11828126758337021,\n",
      "             last trainaccuracy was 96.875,\n",
      "             last testaccuracy was 86.66666412353516\n",
      "Training epoch 100,\n",
      "             last trainloss was 0.08869846165180206,\n",
      "             last trainaccuracy was 95.53571319580078,\n",
      "             last testaccuracy was 86.66666412353516\n",
      "Training epoch 110,\n",
      "             last trainloss was 0.03974131494760513,\n",
      "             last trainaccuracy was 98.66071319580078,\n",
      "             last testaccuracy was 86.66666412353516\n",
      "Training epoch 120,\n",
      "             last trainloss was 0.04044339433312416,\n",
      "             last trainaccuracy was 98.66071319580078,\n",
      "             last testaccuracy was 83.33332824707031\n",
      "Training epoch 130,\n",
      "             last trainloss was 0.11708921194076538,\n",
      "             last trainaccuracy was 96.875,\n",
      "             last testaccuracy was 86.66666412353516\n",
      "Training epoch 140,\n",
      "             last trainloss was 0.06455260515213013,\n",
      "             last trainaccuracy was 99.10713958740234,\n",
      "             last testaccuracy was 83.33332824707031\n",
      "Training epoch 150,\n",
      "             last trainloss was 0.03764328733086586,\n",
      "             last trainaccuracy was 98.66071319580078,\n",
      "             last testaccuracy was 83.33332824707031\n",
      "Training epoch 160,\n",
      "             last trainloss was 0.06696430593729019,\n",
      "             last trainaccuracy was 97.76786041259766,\n",
      "             last testaccuracy was 83.33332824707031\n",
      "Training epoch 170,\n",
      "             last trainloss was 0.08566437661647797,\n",
      "             last trainaccuracy was 97.32142639160156,\n",
      "             last testaccuracy was 83.33332824707031\n",
      "Training epoch 180,\n",
      "             last trainloss was 0.023424116894602776,\n",
      "             last trainaccuracy was 99.10713958740234,\n",
      "             last testaccuracy was 83.33332824707031\n",
      "Training epoch 190,\n",
      "             last trainloss was 0.053937461227178574,\n",
      "             last trainaccuracy was 97.76786041259766,\n",
      "             last testaccuracy was 83.33332824707031\n",
      "Training epoch 200,\n",
      "             last trainloss was 0.0434177964925766,\n",
      "             last trainaccuracy was 98.66071319580078,\n",
      "             last testaccuracy was 83.33332824707031\n",
      "Training epoch 210,\n",
      "             last trainloss was 0.043793708086013794,\n",
      "             last trainaccuracy was 98.21428680419922,\n",
      "             last testaccuracy was 83.33332824707031\n",
      "Training epoch 220,\n",
      "             last trainloss was 0.042783256620168686,\n",
      "             last trainaccuracy was 98.21428680419922,\n",
      "             last testaccuracy was 83.33332824707031\n",
      "Training epoch 230,\n",
      "             last trainloss was 0.03690579533576965,\n",
      "             last trainaccuracy was 98.21428680419922,\n",
      "             last testaccuracy was 86.66666412353516\n",
      "Training epoch 240,\n",
      "             last trainloss was 0.03372360020875931,\n",
      "             last trainaccuracy was 98.66071319580078,\n",
      "             last testaccuracy was 83.33332824707031\n",
      "Training epoch 250,\n",
      "             last trainloss was 0.06360478699207306,\n",
      "             last trainaccuracy was 97.76786041259766,\n",
      "             last testaccuracy was 83.33332824707031\n",
      "Training epoch 260,\n",
      "             last trainloss was 0.11270077526569366,\n",
      "             last trainaccuracy was 95.98213958740234,\n",
      "             last testaccuracy was 83.33332824707031\n",
      "Training epoch 270,\n",
      "             last trainloss was 0.016334040090441704,\n",
      "             last trainaccuracy was 99.55357360839844,\n",
      "             last testaccuracy was 86.66666412353516\n",
      "Training epoch 280,\n",
      "             last trainloss was 0.022477280348539352,\n",
      "             last trainaccuracy was 99.10713958740234,\n",
      "             last testaccuracy was 86.66666412353516\n",
      "Training epoch 290,\n",
      "             last trainloss was 0.023272864520549774,\n",
      "             last trainaccuracy was 98.66071319580078,\n",
      "             last testaccuracy was 83.33332824707031\n",
      "Training finished after 300 epochs,             last mean loss was 0.009721414186060429\n"
     ]
    }
   ],
   "source": [
    "train_accuracy, test_accuracy, losses, model_instance = train_model(\n",
    "    train_loader=train_loader,\n",
    "    test_loader=test_loader,\n",
    "    epochs=EPOCHS,\n",
    "    depth=DEPTH,\n",
    "    width=WIDTH,\n",
    "    dropout=DROPOUT,\n",
    "    batch_normalize=BATCHNORMALIZE,\n",
    "    learning_rate=LEARNINGRATE)\n"
   ]
  },
  {
   "cell_type": "code",
   "execution_count": 62,
   "metadata": {},
   "outputs": [
    {
     "data": {
      "image/svg+xml": "<?xml version=\"1.0\" encoding=\"utf-8\" standalone=\"no\"?>\n<!DOCTYPE svg PUBLIC \"-//W3C//DTD SVG 1.1//EN\"\n  \"http://www.w3.org/Graphics/SVG/1.1/DTD/svg11.dtd\">\n<svg xmlns:xlink=\"http://www.w3.org/1999/xlink\" width=\"943.78125pt\" height=\"337.074375pt\" viewBox=\"0 0 943.78125 337.074375\" xmlns=\"http://www.w3.org/2000/svg\" version=\"1.1\">\n <metadata>\n  <rdf:RDF xmlns:dc=\"http://purl.org/dc/elements/1.1/\" xmlns:cc=\"http://creativecommons.org/ns#\" xmlns:rdf=\"http://www.w3.org/1999/02/22-rdf-syntax-ns#\">\n   <cc:Work>\n    <dc:type rdf:resource=\"http://purl.org/dc/dcmitype/StillImage\"/>\n    <dc:date>2022-10-21T14:23:57.664831</dc:date>\n    <dc:format>image/svg+xml</dc:format>\n    <dc:creator>\n     <cc:Agent>\n      <dc:title>Matplotlib v3.5.2, https://matplotlib.org/</dc:title>\n     </cc:Agent>\n    </dc:creator>\n   </cc:Work>\n  </rdf:RDF>\n </metadata>\n <defs>\n  <style type=\"text/css\">*{stroke-linejoin: round; stroke-linecap: butt}</style>\n </defs>\n <g id=\"figure_1\">\n  <g id=\"patch_1\">\n   <path d=\"M 0 337.074375 \nL 943.78125 337.074375 \nL 943.78125 0 \nL 0 0 \nz\n\" style=\"fill: #ffffff\"/>\n  </g>\n  <g id=\"axes_1\">\n   <g id=\"patch_2\">\n    <path d=\"M 43.78125 299.518125 \nL 449.599432 299.518125 \nL 449.599432 22.318125 \nL 43.78125 22.318125 \nz\n\" style=\"fill: #ffffff\"/>\n   </g>\n   <g id=\"matplotlib.axis_1\">\n    <g id=\"xtick_1\">\n     <g id=\"line2d_1\">\n      <defs>\n       <path id=\"m1c85a0535e\" d=\"M 0 0 \nL 0 3.5 \n\" style=\"stroke: #000000; stroke-width: 0.8\"/>\n      </defs>\n      <g>\n       <use xlink:href=\"#m1c85a0535e\" x=\"62.227531\" y=\"299.518125\" style=\"stroke: #000000; stroke-width: 0.8\"/>\n      </g>\n     </g>\n     <g id=\"text_1\">\n      <!-- 0 -->\n      <g transform=\"translate(59.046281 314.116563)scale(0.1 -0.1)\">\n       <defs>\n        <path id=\"DejaVuSans-30\" d=\"M 2034 4250 \nQ 1547 4250 1301 3770 \nQ 1056 3291 1056 2328 \nQ 1056 1369 1301 889 \nQ 1547 409 2034 409 \nQ 2525 409 2770 889 \nQ 3016 1369 3016 2328 \nQ 3016 3291 2770 3770 \nQ 2525 4250 2034 4250 \nz\nM 2034 4750 \nQ 2819 4750 3233 4129 \nQ 3647 3509 3647 2328 \nQ 3647 1150 3233 529 \nQ 2819 -91 2034 -91 \nQ 1250 -91 836 529 \nQ 422 1150 422 2328 \nQ 422 3509 836 4129 \nQ 1250 4750 2034 4750 \nz\n\" transform=\"scale(0.015625)\"/>\n       </defs>\n       <use xlink:href=\"#DejaVuSans-30\"/>\n      </g>\n     </g>\n    </g>\n    <g id=\"xtick_2\">\n     <g id=\"line2d_2\">\n      <g>\n       <use xlink:href=\"#m1c85a0535e\" x=\"123.920778\" y=\"299.518125\" style=\"stroke: #000000; stroke-width: 0.8\"/>\n      </g>\n     </g>\n     <g id=\"text_2\">\n      <!-- 50 -->\n      <g transform=\"translate(117.558278 314.116563)scale(0.1 -0.1)\">\n       <defs>\n        <path id=\"DejaVuSans-35\" d=\"M 691 4666 \nL 3169 4666 \nL 3169 4134 \nL 1269 4134 \nL 1269 2991 \nQ 1406 3038 1543 3061 \nQ 1681 3084 1819 3084 \nQ 2600 3084 3056 2656 \nQ 3513 2228 3513 1497 \nQ 3513 744 3044 326 \nQ 2575 -91 1722 -91 \nQ 1428 -91 1123 -41 \nQ 819 9 494 109 \nL 494 744 \nQ 775 591 1075 516 \nQ 1375 441 1709 441 \nQ 2250 441 2565 725 \nQ 2881 1009 2881 1497 \nQ 2881 1984 2565 2268 \nQ 2250 2553 1709 2553 \nQ 1456 2553 1204 2497 \nQ 953 2441 691 2322 \nL 691 4666 \nz\n\" transform=\"scale(0.015625)\"/>\n       </defs>\n       <use xlink:href=\"#DejaVuSans-35\"/>\n       <use xlink:href=\"#DejaVuSans-30\" x=\"63.623047\"/>\n      </g>\n     </g>\n    </g>\n    <g id=\"xtick_3\">\n     <g id=\"line2d_3\">\n      <g>\n       <use xlink:href=\"#m1c85a0535e\" x=\"185.614026\" y=\"299.518125\" style=\"stroke: #000000; stroke-width: 0.8\"/>\n      </g>\n     </g>\n     <g id=\"text_3\">\n      <!-- 100 -->\n      <g transform=\"translate(176.070276 314.116563)scale(0.1 -0.1)\">\n       <defs>\n        <path id=\"DejaVuSans-31\" d=\"M 794 531 \nL 1825 531 \nL 1825 4091 \nL 703 3866 \nL 703 4441 \nL 1819 4666 \nL 2450 4666 \nL 2450 531 \nL 3481 531 \nL 3481 0 \nL 794 0 \nL 794 531 \nz\n\" transform=\"scale(0.015625)\"/>\n       </defs>\n       <use xlink:href=\"#DejaVuSans-31\"/>\n       <use xlink:href=\"#DejaVuSans-30\" x=\"63.623047\"/>\n       <use xlink:href=\"#DejaVuSans-30\" x=\"127.246094\"/>\n      </g>\n     </g>\n    </g>\n    <g id=\"xtick_4\">\n     <g id=\"line2d_4\">\n      <g>\n       <use xlink:href=\"#m1c85a0535e\" x=\"247.307273\" y=\"299.518125\" style=\"stroke: #000000; stroke-width: 0.8\"/>\n      </g>\n     </g>\n     <g id=\"text_4\">\n      <!-- 150 -->\n      <g transform=\"translate(237.763523 314.116563)scale(0.1 -0.1)\">\n       <use xlink:href=\"#DejaVuSans-31\"/>\n       <use xlink:href=\"#DejaVuSans-35\" x=\"63.623047\"/>\n       <use xlink:href=\"#DejaVuSans-30\" x=\"127.246094\"/>\n      </g>\n     </g>\n    </g>\n    <g id=\"xtick_5\">\n     <g id=\"line2d_5\">\n      <g>\n       <use xlink:href=\"#m1c85a0535e\" x=\"309.000521\" y=\"299.518125\" style=\"stroke: #000000; stroke-width: 0.8\"/>\n      </g>\n     </g>\n     <g id=\"text_5\">\n      <!-- 200 -->\n      <g transform=\"translate(299.456771 314.116563)scale(0.1 -0.1)\">\n       <defs>\n        <path id=\"DejaVuSans-32\" d=\"M 1228 531 \nL 3431 531 \nL 3431 0 \nL 469 0 \nL 469 531 \nQ 828 903 1448 1529 \nQ 2069 2156 2228 2338 \nQ 2531 2678 2651 2914 \nQ 2772 3150 2772 3378 \nQ 2772 3750 2511 3984 \nQ 2250 4219 1831 4219 \nQ 1534 4219 1204 4116 \nQ 875 4013 500 3803 \nL 500 4441 \nQ 881 4594 1212 4672 \nQ 1544 4750 1819 4750 \nQ 2544 4750 2975 4387 \nQ 3406 4025 3406 3419 \nQ 3406 3131 3298 2873 \nQ 3191 2616 2906 2266 \nQ 2828 2175 2409 1742 \nQ 1991 1309 1228 531 \nz\n\" transform=\"scale(0.015625)\"/>\n       </defs>\n       <use xlink:href=\"#DejaVuSans-32\"/>\n       <use xlink:href=\"#DejaVuSans-30\" x=\"63.623047\"/>\n       <use xlink:href=\"#DejaVuSans-30\" x=\"127.246094\"/>\n      </g>\n     </g>\n    </g>\n    <g id=\"xtick_6\">\n     <g id=\"line2d_6\">\n      <g>\n       <use xlink:href=\"#m1c85a0535e\" x=\"370.693768\" y=\"299.518125\" style=\"stroke: #000000; stroke-width: 0.8\"/>\n      </g>\n     </g>\n     <g id=\"text_6\">\n      <!-- 250 -->\n      <g transform=\"translate(361.150018 314.116563)scale(0.1 -0.1)\">\n       <use xlink:href=\"#DejaVuSans-32\"/>\n       <use xlink:href=\"#DejaVuSans-35\" x=\"63.623047\"/>\n       <use xlink:href=\"#DejaVuSans-30\" x=\"127.246094\"/>\n      </g>\n     </g>\n    </g>\n    <g id=\"xtick_7\">\n     <g id=\"line2d_7\">\n      <g>\n       <use xlink:href=\"#m1c85a0535e\" x=\"432.387016\" y=\"299.518125\" style=\"stroke: #000000; stroke-width: 0.8\"/>\n      </g>\n     </g>\n     <g id=\"text_7\">\n      <!-- 300 -->\n      <g transform=\"translate(422.843266 314.116563)scale(0.1 -0.1)\">\n       <defs>\n        <path id=\"DejaVuSans-33\" d=\"M 2597 2516 \nQ 3050 2419 3304 2112 \nQ 3559 1806 3559 1356 \nQ 3559 666 3084 287 \nQ 2609 -91 1734 -91 \nQ 1441 -91 1130 -33 \nQ 819 25 488 141 \nL 488 750 \nQ 750 597 1062 519 \nQ 1375 441 1716 441 \nQ 2309 441 2620 675 \nQ 2931 909 2931 1356 \nQ 2931 1769 2642 2001 \nQ 2353 2234 1838 2234 \nL 1294 2234 \nL 1294 2753 \nL 1863 2753 \nQ 2328 2753 2575 2939 \nQ 2822 3125 2822 3475 \nQ 2822 3834 2567 4026 \nQ 2313 4219 1838 4219 \nQ 1578 4219 1281 4162 \nQ 984 4106 628 3988 \nL 628 4550 \nQ 988 4650 1302 4700 \nQ 1616 4750 1894 4750 \nQ 2613 4750 3031 4423 \nQ 3450 4097 3450 3541 \nQ 3450 3153 3228 2886 \nQ 3006 2619 2597 2516 \nz\n\" transform=\"scale(0.015625)\"/>\n       </defs>\n       <use xlink:href=\"#DejaVuSans-33\"/>\n       <use xlink:href=\"#DejaVuSans-30\" x=\"63.623047\"/>\n       <use xlink:href=\"#DejaVuSans-30\" x=\"127.246094\"/>\n      </g>\n     </g>\n    </g>\n    <g id=\"text_8\">\n     <!-- Epochs -->\n     <g transform=\"translate(228.774716 327.794688)scale(0.1 -0.1)\">\n      <defs>\n       <path id=\"DejaVuSans-45\" d=\"M 628 4666 \nL 3578 4666 \nL 3578 4134 \nL 1259 4134 \nL 1259 2753 \nL 3481 2753 \nL 3481 2222 \nL 1259 2222 \nL 1259 531 \nL 3634 531 \nL 3634 0 \nL 628 0 \nL 628 4666 \nz\n\" transform=\"scale(0.015625)\"/>\n       <path id=\"DejaVuSans-70\" d=\"M 1159 525 \nL 1159 -1331 \nL 581 -1331 \nL 581 3500 \nL 1159 3500 \nL 1159 2969 \nQ 1341 3281 1617 3432 \nQ 1894 3584 2278 3584 \nQ 2916 3584 3314 3078 \nQ 3713 2572 3713 1747 \nQ 3713 922 3314 415 \nQ 2916 -91 2278 -91 \nQ 1894 -91 1617 61 \nQ 1341 213 1159 525 \nz\nM 3116 1747 \nQ 3116 2381 2855 2742 \nQ 2594 3103 2138 3103 \nQ 1681 3103 1420 2742 \nQ 1159 2381 1159 1747 \nQ 1159 1113 1420 752 \nQ 1681 391 2138 391 \nQ 2594 391 2855 752 \nQ 3116 1113 3116 1747 \nz\n\" transform=\"scale(0.015625)\"/>\n       <path id=\"DejaVuSans-6f\" d=\"M 1959 3097 \nQ 1497 3097 1228 2736 \nQ 959 2375 959 1747 \nQ 959 1119 1226 758 \nQ 1494 397 1959 397 \nQ 2419 397 2687 759 \nQ 2956 1122 2956 1747 \nQ 2956 2369 2687 2733 \nQ 2419 3097 1959 3097 \nz\nM 1959 3584 \nQ 2709 3584 3137 3096 \nQ 3566 2609 3566 1747 \nQ 3566 888 3137 398 \nQ 2709 -91 1959 -91 \nQ 1206 -91 779 398 \nQ 353 888 353 1747 \nQ 353 2609 779 3096 \nQ 1206 3584 1959 3584 \nz\n\" transform=\"scale(0.015625)\"/>\n       <path id=\"DejaVuSans-63\" d=\"M 3122 3366 \nL 3122 2828 \nQ 2878 2963 2633 3030 \nQ 2388 3097 2138 3097 \nQ 1578 3097 1268 2742 \nQ 959 2388 959 1747 \nQ 959 1106 1268 751 \nQ 1578 397 2138 397 \nQ 2388 397 2633 464 \nQ 2878 531 3122 666 \nL 3122 134 \nQ 2881 22 2623 -34 \nQ 2366 -91 2075 -91 \nQ 1284 -91 818 406 \nQ 353 903 353 1747 \nQ 353 2603 823 3093 \nQ 1294 3584 2113 3584 \nQ 2378 3584 2631 3529 \nQ 2884 3475 3122 3366 \nz\n\" transform=\"scale(0.015625)\"/>\n       <path id=\"DejaVuSans-68\" d=\"M 3513 2113 \nL 3513 0 \nL 2938 0 \nL 2938 2094 \nQ 2938 2591 2744 2837 \nQ 2550 3084 2163 3084 \nQ 1697 3084 1428 2787 \nQ 1159 2491 1159 1978 \nL 1159 0 \nL 581 0 \nL 581 4863 \nL 1159 4863 \nL 1159 2956 \nQ 1366 3272 1645 3428 \nQ 1925 3584 2291 3584 \nQ 2894 3584 3203 3211 \nQ 3513 2838 3513 2113 \nz\n\" transform=\"scale(0.015625)\"/>\n       <path id=\"DejaVuSans-73\" d=\"M 2834 3397 \nL 2834 2853 \nQ 2591 2978 2328 3040 \nQ 2066 3103 1784 3103 \nQ 1356 3103 1142 2972 \nQ 928 2841 928 2578 \nQ 928 2378 1081 2264 \nQ 1234 2150 1697 2047 \nL 1894 2003 \nQ 2506 1872 2764 1633 \nQ 3022 1394 3022 966 \nQ 3022 478 2636 193 \nQ 2250 -91 1575 -91 \nQ 1294 -91 989 -36 \nQ 684 19 347 128 \nL 347 722 \nQ 666 556 975 473 \nQ 1284 391 1588 391 \nQ 1994 391 2212 530 \nQ 2431 669 2431 922 \nQ 2431 1156 2273 1281 \nQ 2116 1406 1581 1522 \nL 1381 1569 \nQ 847 1681 609 1914 \nQ 372 2147 372 2553 \nQ 372 3047 722 3315 \nQ 1072 3584 1716 3584 \nQ 2034 3584 2315 3537 \nQ 2597 3491 2834 3397 \nz\n\" transform=\"scale(0.015625)\"/>\n      </defs>\n      <use xlink:href=\"#DejaVuSans-45\"/>\n      <use xlink:href=\"#DejaVuSans-70\" x=\"63.183594\"/>\n      <use xlink:href=\"#DejaVuSans-6f\" x=\"126.660156\"/>\n      <use xlink:href=\"#DejaVuSans-63\" x=\"187.841797\"/>\n      <use xlink:href=\"#DejaVuSans-68\" x=\"242.822266\"/>\n      <use xlink:href=\"#DejaVuSans-73\" x=\"306.201172\"/>\n     </g>\n    </g>\n   </g>\n   <g id=\"matplotlib.axis_2\">\n    <g id=\"ytick_1\">\n     <g id=\"line2d_8\">\n      <defs>\n       <path id=\"m72023ab0d9\" d=\"M 0 0 \nL -3.5 0 \n\" style=\"stroke: #000000; stroke-width: 0.8\"/>\n      </defs>\n      <g>\n       <use xlink:href=\"#m72023ab0d9\" x=\"43.78125\" y=\"299.518125\" style=\"stroke: #000000; stroke-width: 0.8\"/>\n      </g>\n     </g>\n     <g id=\"text_9\">\n      <!-- 0.0 -->\n      <g transform=\"translate(20.878125 303.317344)scale(0.1 -0.1)\">\n       <defs>\n        <path id=\"DejaVuSans-2e\" d=\"M 684 794 \nL 1344 794 \nL 1344 0 \nL 684 0 \nL 684 794 \nz\n\" transform=\"scale(0.015625)\"/>\n       </defs>\n       <use xlink:href=\"#DejaVuSans-30\"/>\n       <use xlink:href=\"#DejaVuSans-2e\" x=\"63.623047\"/>\n       <use xlink:href=\"#DejaVuSans-30\" x=\"95.410156\"/>\n      </g>\n     </g>\n    </g>\n    <g id=\"ytick_2\">\n     <g id=\"line2d_9\">\n      <g>\n       <use xlink:href=\"#m72023ab0d9\" x=\"43.78125\" y=\"253.318125\" style=\"stroke: #000000; stroke-width: 0.8\"/>\n      </g>\n     </g>\n     <g id=\"text_10\">\n      <!-- 0.5 -->\n      <g transform=\"translate(20.878125 257.117344)scale(0.1 -0.1)\">\n       <use xlink:href=\"#DejaVuSans-30\"/>\n       <use xlink:href=\"#DejaVuSans-2e\" x=\"63.623047\"/>\n       <use xlink:href=\"#DejaVuSans-35\" x=\"95.410156\"/>\n      </g>\n     </g>\n    </g>\n    <g id=\"ytick_3\">\n     <g id=\"line2d_10\">\n      <g>\n       <use xlink:href=\"#m72023ab0d9\" x=\"43.78125\" y=\"207.118125\" style=\"stroke: #000000; stroke-width: 0.8\"/>\n      </g>\n     </g>\n     <g id=\"text_11\">\n      <!-- 1.0 -->\n      <g transform=\"translate(20.878125 210.917344)scale(0.1 -0.1)\">\n       <use xlink:href=\"#DejaVuSans-31\"/>\n       <use xlink:href=\"#DejaVuSans-2e\" x=\"63.623047\"/>\n       <use xlink:href=\"#DejaVuSans-30\" x=\"95.410156\"/>\n      </g>\n     </g>\n    </g>\n    <g id=\"ytick_4\">\n     <g id=\"line2d_11\">\n      <g>\n       <use xlink:href=\"#m72023ab0d9\" x=\"43.78125\" y=\"160.918125\" style=\"stroke: #000000; stroke-width: 0.8\"/>\n      </g>\n     </g>\n     <g id=\"text_12\">\n      <!-- 1.5 -->\n      <g transform=\"translate(20.878125 164.717344)scale(0.1 -0.1)\">\n       <use xlink:href=\"#DejaVuSans-31\"/>\n       <use xlink:href=\"#DejaVuSans-2e\" x=\"63.623047\"/>\n       <use xlink:href=\"#DejaVuSans-35\" x=\"95.410156\"/>\n      </g>\n     </g>\n    </g>\n    <g id=\"ytick_5\">\n     <g id=\"line2d_12\">\n      <g>\n       <use xlink:href=\"#m72023ab0d9\" x=\"43.78125\" y=\"114.718125\" style=\"stroke: #000000; stroke-width: 0.8\"/>\n      </g>\n     </g>\n     <g id=\"text_13\">\n      <!-- 2.0 -->\n      <g transform=\"translate(20.878125 118.517344)scale(0.1 -0.1)\">\n       <use xlink:href=\"#DejaVuSans-32\"/>\n       <use xlink:href=\"#DejaVuSans-2e\" x=\"63.623047\"/>\n       <use xlink:href=\"#DejaVuSans-30\" x=\"95.410156\"/>\n      </g>\n     </g>\n    </g>\n    <g id=\"ytick_6\">\n     <g id=\"line2d_13\">\n      <g>\n       <use xlink:href=\"#m72023ab0d9\" x=\"43.78125\" y=\"68.518125\" style=\"stroke: #000000; stroke-width: 0.8\"/>\n      </g>\n     </g>\n     <g id=\"text_14\">\n      <!-- 2.5 -->\n      <g transform=\"translate(20.878125 72.317344)scale(0.1 -0.1)\">\n       <use xlink:href=\"#DejaVuSans-32\"/>\n       <use xlink:href=\"#DejaVuSans-2e\" x=\"63.623047\"/>\n       <use xlink:href=\"#DejaVuSans-35\" x=\"95.410156\"/>\n      </g>\n     </g>\n    </g>\n    <g id=\"ytick_7\">\n     <g id=\"line2d_14\">\n      <g>\n       <use xlink:href=\"#m72023ab0d9\" x=\"43.78125\" y=\"22.318125\" style=\"stroke: #000000; stroke-width: 0.8\"/>\n      </g>\n     </g>\n     <g id=\"text_15\">\n      <!-- 3.0 -->\n      <g transform=\"translate(20.878125 26.117344)scale(0.1 -0.1)\">\n       <use xlink:href=\"#DejaVuSans-33\"/>\n       <use xlink:href=\"#DejaVuSans-2e\" x=\"63.623047\"/>\n       <use xlink:href=\"#DejaVuSans-30\" x=\"95.410156\"/>\n      </g>\n     </g>\n    </g>\n    <g id=\"text_16\">\n     <!-- Loss -->\n     <g transform=\"translate(14.798438 171.885313)rotate(-90)scale(0.1 -0.1)\">\n      <defs>\n       <path id=\"DejaVuSans-4c\" d=\"M 628 4666 \nL 1259 4666 \nL 1259 531 \nL 3531 531 \nL 3531 0 \nL 628 0 \nL 628 4666 \nz\n\" transform=\"scale(0.015625)\"/>\n      </defs>\n      <use xlink:href=\"#DejaVuSans-4c\"/>\n      <use xlink:href=\"#DejaVuSans-6f\" x=\"53.962891\"/>\n      <use xlink:href=\"#DejaVuSans-73\" x=\"115.144531\"/>\n      <use xlink:href=\"#DejaVuSans-73\" x=\"167.244141\"/>\n     </g>\n    </g>\n   </g>\n   <g id=\"line2d_15\">\n    <path d=\"M 62.227531 243.207932 \nL 63.461396 258.601234 \nL 64.695261 259.989876 \nL 65.929126 265.509332 \nL 67.162991 265.480949 \nL 68.396856 266.225474 \nL 69.630721 267.851926 \nL 70.864586 265.90574 \nL 72.098451 269.839527 \nL 73.332316 268.864791 \nL 74.56618 269.707538 \nL 75.800045 274.344577 \nL 77.03391 272.626544 \nL 78.267775 275.433111 \nL 79.50164 279.338196 \nL 80.735505 271.543783 \nL 81.96937 271.684623 \nL 83.203235 271.157713 \nL 84.4371 277.741104 \nL 85.670965 278.521589 \nL 86.90483 278.572504 \nL 88.138695 279.001056 \nL 89.37256 277.335635 \nL 90.606425 272.883635 \nL 91.84029 276.256819 \nL 93.074155 281.268104 \nL 94.30802 283.418558 \nL 95.541885 283.997175 \nL 96.77575 283.459342 \nL 98.009615 281.460143 \nL 99.243479 284.107545 \nL 100.477344 281.359673 \nL 101.711209 279.537156 \nL 102.945074 279.344645 \nL 104.178939 283.467107 \nL 105.412804 283.430339 \nL 106.646669 282.543406 \nL 107.880534 276.86355 \nL 109.114399 284.247527 \nL 110.348264 280.515678 \nL 111.582129 286.394721 \nL 112.815994 284.368157 \nL 114.049859 287.264539 \nL 115.283724 283.349513 \nL 116.517589 282.631895 \nL 117.751454 283.858502 \nL 118.985319 289.333057 \nL 120.219184 284.12236 \nL 121.453049 288.205568 \nL 122.686914 284.493512 \nL 123.920778 286.426672 \nL 125.154643 286.809195 \nL 126.388508 286.986916 \nL 127.622373 286.946003 \nL 128.856238 288.686044 \nL 130.090103 284.500252 \nL 132.557833 288.324676 \nL 133.791698 282.974282 \nL 135.025563 284.630738 \nL 136.259428 289.669603 \nL 137.493293 289.137496 \nL 139.961023 282.742962 \nL 142.428753 291.138265 \nL 143.662618 289.900153 \nL 144.896483 289.987396 \nL 146.130348 293.816215 \nL 147.364212 284.168445 \nL 148.598077 291.93186 \nL 149.831942 291.205059 \nL 151.065807 290.013928 \nL 152.299672 294.23795 \nL 153.533537 291.702919 \nL 154.767402 292.484458 \nL 156.001267 288.761337 \nL 157.235132 293.939369 \nL 158.468997 290.279327 \nL 159.702862 291.988298 \nL 160.936727 294.555384 \nL 162.170592 289.183166 \nL 163.404457 290.572758 \nL 164.638322 290.795245 \nL 165.872187 286.092653 \nL 167.106052 290.782752 \nL 168.339917 294.296668 \nL 169.573782 288.549929 \nL 170.807647 292.45704 \nL 172.041511 288.588936 \nL 173.275376 295.196624 \nL 174.509241 284.731096 \nL 175.743106 289.905014 \nL 176.976971 286.806531 \nL 178.210836 285.099511 \nL 179.444701 291.800877 \nL 180.678566 289.61726 \nL 181.912431 287.011518 \nL 183.146296 288.730498 \nL 184.380161 291.322387 \nL 185.614026 294.951753 \nL 186.847891 289.997118 \nL 188.081756 295.512886 \nL 190.549486 290.716112 \nL 191.783351 294.263247 \nL 193.017216 293.123487 \nL 194.251081 293.459552 \nL 195.484946 284.576737 \nL 196.71881 295.846027 \nL 197.952675 283.466093 \nL 199.18654 290.240101 \nL 200.420405 295.13875 \nL 201.65427 290.44768 \nL 202.888135 294.302369 \nL 204.122 294.629693 \nL 205.355865 295.304648 \nL 206.58973 292.45584 \nL 207.823595 295.4618 \nL 209.05746 295.781155 \nL 211.52519 291.07986 \nL 212.759055 293.571344 \nL 213.99292 294.600246 \nL 215.226785 292.117454 \nL 216.46065 291.557746 \nL 217.694515 290.232524 \nL 218.92838 296.007827 \nL 220.162244 296.696281 \nL 221.396109 288.699082 \nL 222.629974 293.471752 \nL 223.863839 289.17916 \nL 225.097704 294.638246 \nL 226.331569 294.499649 \nL 227.565434 295.441827 \nL 228.799299 294.689379 \nL 230.033164 285.690311 \nL 231.267029 293.198085 \nL 232.500894 295.337671 \nL 233.734759 293.553464 \nL 234.968624 295.071292 \nL 236.202489 297.832279 \nL 237.436354 290.639205 \nL 238.670219 292.229664 \nL 239.904084 294.192536 \nL 241.137949 295.422528 \nL 242.371814 292.770398 \nL 243.605679 295.171426 \nL 244.839543 296.127718 \nL 246.073408 296.039885 \nL 247.307273 294.105779 \nL 248.541138 286.558028 \nL 249.775003 280.982642 \nL 251.008868 292.62478 \nL 252.242733 295.314459 \nL 253.476598 288.849837 \nL 254.710463 294.867842 \nL 255.944328 291.958788 \nL 257.178193 291.38273 \nL 258.412058 293.330623 \nL 259.645923 293.547505 \nL 260.879788 294.326062 \nL 262.113653 294.762048 \nL 263.347518 291.385103 \nL 264.581383 292.293556 \nL 265.815248 293.506625 \nL 267.049113 292.442692 \nL 268.282978 293.508536 \nL 269.516842 296.028308 \nL 270.750707 291.602737 \nL 271.984572 293.361554 \nL 273.218437 293.851292 \nL 274.452302 294.47346 \nL 275.686167 293.53194 \nL 276.920032 296.351781 \nL 278.153897 297.22651 \nL 279.387762 296.423393 \nL 280.621627 290.081743 \nL 281.855492 296.990515 \nL 283.089357 297.353737 \nL 284.323222 292.808666 \nL 285.557087 294.31302 \nL 286.790952 294.273835 \nL 288.024817 297.588624 \nL 289.258682 295.836377 \nL 290.492547 296.324519 \nL 291.726412 298.832033 \nL 292.960277 294.344462 \nL 294.194141 297.317593 \nL 295.428006 294.534304 \nL 296.661871 292.642124 \nL 297.895736 296.328146 \nL 299.129601 295.187149 \nL 300.363466 295.7201 \nL 302.831196 292.552954 \nL 304.065061 290.415887 \nL 305.298926 292.660695 \nL 306.532791 296.898618 \nL 307.766656 295.506321 \nL 309.000521 297.873961 \nL 310.234386 295.853135 \nL 311.468251 290.127458 \nL 312.702116 297.293661 \nL 313.935981 288.352097 \nL 315.169846 292.062279 \nL 316.403711 293.974814 \nL 317.637575 296.507661 \nL 318.87144 294.309641 \nL 321.33917 296.519285 \nL 322.573035 298.038809 \nL 323.8069 296.992872 \nL 325.040765 296.369667 \nL 326.27463 295.127406 \nL 327.508495 298.25283 \nL 328.74236 295.365851 \nL 329.976225 293.032907 \nL 331.21009 296.384073 \nL 332.443955 295.564952 \nL 333.67782 296.684548 \nL 334.911685 296.360242 \nL 336.14555 293.915246 \nL 337.379415 295.246738 \nL 338.61328 295.306204 \nL 339.847145 296.769451 \nL 341.08101 293.611578 \nL 342.314874 292.806146 \nL 343.548739 289.789127 \nL 344.782604 296.10803 \nL 346.016469 296.9472 \nL 347.250334 297.285939 \nL 348.484199 298.068331 \nL 349.718064 297.886005 \nL 350.951929 297.390539 \nL 352.185794 294.940705 \nL 353.419659 292.874877 \nL 354.653524 298.253705 \nL 355.887389 294.663321 \nL 357.121254 296.402064 \nL 358.355119 298.975447 \nL 359.588984 293.593868 \nL 360.822849 293.953797 \nL 362.056714 296.352835 \nL 363.290579 296.083148 \nL 364.524444 294.424386 \nL 365.758309 298.582117 \nL 366.992173 294.696174 \nL 368.226038 296.401446 \nL 369.459903 293.641043 \nL 370.693768 285.464474 \nL 371.927633 294.532638 \nL 373.161498 294.046419 \nL 374.395363 298.144241 \nL 375.629228 292.149184 \nL 376.863093 295.825348 \nL 378.096958 297.454093 \nL 379.330823 297.50218 \nL 380.564688 289.045696 \nL 381.798553 289.104573 \nL 383.032418 293.67224 \nL 384.266283 293.741193 \nL 385.500148 296.046818 \nL 386.734013 297.606375 \nL 387.967878 292.72489 \nL 389.201743 296.467262 \nL 390.435608 296.496251 \nL 391.669472 293.633779 \nL 392.903337 292.698771 \nL 394.137202 298.00886 \nL 395.371067 298.343923 \nL 396.604932 296.901809 \nL 397.838797 294.301731 \nL 399.072662 297.598197 \nL 400.306527 294.742129 \nL 401.540392 298.639651 \nL 402.774257 295.141903 \nL 404.008122 294.949196 \nL 405.241987 297.802765 \nL 406.475852 297.441224 \nL 407.709717 297.77277 \nL 408.943582 295.125128 \nL 410.177447 297.293361 \nL 411.411312 297.309003 \nL 412.645177 297.079797 \nL 413.879042 298.430577 \nL 415.112906 296.18351 \nL 416.346771 297.217885 \nL 417.580636 299.127021 \nL 418.814501 297.367712 \nL 421.282231 296.353691 \nL 422.516096 294.460741 \nL 423.749961 292.355926 \nL 424.983826 296.257425 \nL 426.217691 294.162329 \nL 427.451556 296.530489 \nL 428.685421 294.548727 \nL 429.919286 298.095591 \nL 431.153151 298.619866 \nL 431.153151 298.619866 \n\" clip-path=\"url(#pbf85bc399a)\" style=\"fill: none; stroke: #1f77b4; stroke-width: 1.5; stroke-linecap: square\"/>\n   </g>\n   <g id=\"patch_3\">\n    <path d=\"M 43.78125 299.518125 \nL 43.78125 22.318125 \n\" style=\"fill: none; stroke: #000000; stroke-width: 0.8; stroke-linejoin: miter; stroke-linecap: square\"/>\n   </g>\n   <g id=\"patch_4\">\n    <path d=\"M 449.599432 299.518125 \nL 449.599432 22.318125 \n\" style=\"fill: none; stroke: #000000; stroke-width: 0.8; stroke-linejoin: miter; stroke-linecap: square\"/>\n   </g>\n   <g id=\"patch_5\">\n    <path d=\"M 43.78125 299.518125 \nL 449.599432 299.518125 \n\" style=\"fill: none; stroke: #000000; stroke-width: 0.8; stroke-linejoin: miter; stroke-linecap: square\"/>\n   </g>\n   <g id=\"patch_6\">\n    <path d=\"M 43.78125 22.318125 \nL 449.599432 22.318125 \n\" style=\"fill: none; stroke: #000000; stroke-width: 0.8; stroke-linejoin: miter; stroke-linecap: square\"/>\n   </g>\n   <g id=\"text_17\">\n    <!-- Model loss -->\n    <g transform=\"translate(215.178153 16.318125)scale(0.12 -0.12)\">\n     <defs>\n      <path id=\"DejaVuSans-4d\" d=\"M 628 4666 \nL 1569 4666 \nL 2759 1491 \nL 3956 4666 \nL 4897 4666 \nL 4897 0 \nL 4281 0 \nL 4281 4097 \nL 3078 897 \nL 2444 897 \nL 1241 4097 \nL 1241 0 \nL 628 0 \nL 628 4666 \nz\n\" transform=\"scale(0.015625)\"/>\n      <path id=\"DejaVuSans-64\" d=\"M 2906 2969 \nL 2906 4863 \nL 3481 4863 \nL 3481 0 \nL 2906 0 \nL 2906 525 \nQ 2725 213 2448 61 \nQ 2172 -91 1784 -91 \nQ 1150 -91 751 415 \nQ 353 922 353 1747 \nQ 353 2572 751 3078 \nQ 1150 3584 1784 3584 \nQ 2172 3584 2448 3432 \nQ 2725 3281 2906 2969 \nz\nM 947 1747 \nQ 947 1113 1208 752 \nQ 1469 391 1925 391 \nQ 2381 391 2643 752 \nQ 2906 1113 2906 1747 \nQ 2906 2381 2643 2742 \nQ 2381 3103 1925 3103 \nQ 1469 3103 1208 2742 \nQ 947 2381 947 1747 \nz\n\" transform=\"scale(0.015625)\"/>\n      <path id=\"DejaVuSans-65\" d=\"M 3597 1894 \nL 3597 1613 \nL 953 1613 \nQ 991 1019 1311 708 \nQ 1631 397 2203 397 \nQ 2534 397 2845 478 \nQ 3156 559 3463 722 \nL 3463 178 \nQ 3153 47 2828 -22 \nQ 2503 -91 2169 -91 \nQ 1331 -91 842 396 \nQ 353 884 353 1716 \nQ 353 2575 817 3079 \nQ 1281 3584 2069 3584 \nQ 2775 3584 3186 3129 \nQ 3597 2675 3597 1894 \nz\nM 3022 2063 \nQ 3016 2534 2758 2815 \nQ 2500 3097 2075 3097 \nQ 1594 3097 1305 2825 \nQ 1016 2553 972 2059 \nL 3022 2063 \nz\n\" transform=\"scale(0.015625)\"/>\n      <path id=\"DejaVuSans-6c\" d=\"M 603 4863 \nL 1178 4863 \nL 1178 0 \nL 603 0 \nL 603 4863 \nz\n\" transform=\"scale(0.015625)\"/>\n      <path id=\"DejaVuSans-20\" transform=\"scale(0.015625)\"/>\n     </defs>\n     <use xlink:href=\"#DejaVuSans-4d\"/>\n     <use xlink:href=\"#DejaVuSans-6f\" x=\"86.279297\"/>\n     <use xlink:href=\"#DejaVuSans-64\" x=\"147.460938\"/>\n     <use xlink:href=\"#DejaVuSans-65\" x=\"210.9375\"/>\n     <use xlink:href=\"#DejaVuSans-6c\" x=\"272.460938\"/>\n     <use xlink:href=\"#DejaVuSans-20\" x=\"300.244141\"/>\n     <use xlink:href=\"#DejaVuSans-6c\" x=\"332.03125\"/>\n     <use xlink:href=\"#DejaVuSans-6f\" x=\"359.814453\"/>\n     <use xlink:href=\"#DejaVuSans-73\" x=\"420.996094\"/>\n     <use xlink:href=\"#DejaVuSans-73\" x=\"473.095703\"/>\n    </g>\n   </g>\n  </g>\n  <g id=\"axes_2\">\n   <g id=\"patch_7\">\n    <path d=\"M 530.763068 299.518125 \nL 936.58125 299.518125 \nL 936.58125 22.318125 \nL 530.763068 22.318125 \nz\n\" style=\"fill: #ffffff\"/>\n   </g>\n   <g id=\"matplotlib.axis_3\">\n    <g id=\"xtick_8\">\n     <g id=\"line2d_16\">\n      <g>\n       <use xlink:href=\"#m1c85a0535e\" x=\"549.209349\" y=\"299.518125\" style=\"stroke: #000000; stroke-width: 0.8\"/>\n      </g>\n     </g>\n     <g id=\"text_18\">\n      <!-- 0 -->\n      <g transform=\"translate(546.028099 314.116563)scale(0.1 -0.1)\">\n       <use xlink:href=\"#DejaVuSans-30\"/>\n      </g>\n     </g>\n    </g>\n    <g id=\"xtick_9\">\n     <g id=\"line2d_17\">\n      <g>\n       <use xlink:href=\"#m1c85a0535e\" x=\"610.902597\" y=\"299.518125\" style=\"stroke: #000000; stroke-width: 0.8\"/>\n      </g>\n     </g>\n     <g id=\"text_19\">\n      <!-- 50 -->\n      <g transform=\"translate(604.540097 314.116563)scale(0.1 -0.1)\">\n       <use xlink:href=\"#DejaVuSans-35\"/>\n       <use xlink:href=\"#DejaVuSans-30\" x=\"63.623047\"/>\n      </g>\n     </g>\n    </g>\n    <g id=\"xtick_10\">\n     <g id=\"line2d_18\">\n      <g>\n       <use xlink:href=\"#m1c85a0535e\" x=\"672.595844\" y=\"299.518125\" style=\"stroke: #000000; stroke-width: 0.8\"/>\n      </g>\n     </g>\n     <g id=\"text_20\">\n      <!-- 100 -->\n      <g transform=\"translate(663.052094 314.116563)scale(0.1 -0.1)\">\n       <use xlink:href=\"#DejaVuSans-31\"/>\n       <use xlink:href=\"#DejaVuSans-30\" x=\"63.623047\"/>\n       <use xlink:href=\"#DejaVuSans-30\" x=\"127.246094\"/>\n      </g>\n     </g>\n    </g>\n    <g id=\"xtick_11\">\n     <g id=\"line2d_19\">\n      <g>\n       <use xlink:href=\"#m1c85a0535e\" x=\"734.289092\" y=\"299.518125\" style=\"stroke: #000000; stroke-width: 0.8\"/>\n      </g>\n     </g>\n     <g id=\"text_21\">\n      <!-- 150 -->\n      <g transform=\"translate(724.745342 314.116563)scale(0.1 -0.1)\">\n       <use xlink:href=\"#DejaVuSans-31\"/>\n       <use xlink:href=\"#DejaVuSans-35\" x=\"63.623047\"/>\n       <use xlink:href=\"#DejaVuSans-30\" x=\"127.246094\"/>\n      </g>\n     </g>\n    </g>\n    <g id=\"xtick_12\">\n     <g id=\"line2d_20\">\n      <g>\n       <use xlink:href=\"#m1c85a0535e\" x=\"795.982339\" y=\"299.518125\" style=\"stroke: #000000; stroke-width: 0.8\"/>\n      </g>\n     </g>\n     <g id=\"text_22\">\n      <!-- 200 -->\n      <g transform=\"translate(786.438589 314.116563)scale(0.1 -0.1)\">\n       <use xlink:href=\"#DejaVuSans-32\"/>\n       <use xlink:href=\"#DejaVuSans-30\" x=\"63.623047\"/>\n       <use xlink:href=\"#DejaVuSans-30\" x=\"127.246094\"/>\n      </g>\n     </g>\n    </g>\n    <g id=\"xtick_13\">\n     <g id=\"line2d_21\">\n      <g>\n       <use xlink:href=\"#m1c85a0535e\" x=\"857.675586\" y=\"299.518125\" style=\"stroke: #000000; stroke-width: 0.8\"/>\n      </g>\n     </g>\n     <g id=\"text_23\">\n      <!-- 250 -->\n      <g transform=\"translate(848.131836 314.116563)scale(0.1 -0.1)\">\n       <use xlink:href=\"#DejaVuSans-32\"/>\n       <use xlink:href=\"#DejaVuSans-35\" x=\"63.623047\"/>\n       <use xlink:href=\"#DejaVuSans-30\" x=\"127.246094\"/>\n      </g>\n     </g>\n    </g>\n    <g id=\"xtick_14\">\n     <g id=\"line2d_22\">\n      <g>\n       <use xlink:href=\"#m1c85a0535e\" x=\"919.368834\" y=\"299.518125\" style=\"stroke: #000000; stroke-width: 0.8\"/>\n      </g>\n     </g>\n     <g id=\"text_24\">\n      <!-- 300 -->\n      <g transform=\"translate(909.825084 314.116563)scale(0.1 -0.1)\">\n       <use xlink:href=\"#DejaVuSans-33\"/>\n       <use xlink:href=\"#DejaVuSans-30\" x=\"63.623047\"/>\n       <use xlink:href=\"#DejaVuSans-30\" x=\"127.246094\"/>\n      </g>\n     </g>\n    </g>\n    <g id=\"text_25\">\n     <!-- Epochs -->\n     <g transform=\"translate(715.756534 327.794688)scale(0.1 -0.1)\">\n      <use xlink:href=\"#DejaVuSans-45\"/>\n      <use xlink:href=\"#DejaVuSans-70\" x=\"63.183594\"/>\n      <use xlink:href=\"#DejaVuSans-6f\" x=\"126.660156\"/>\n      <use xlink:href=\"#DejaVuSans-63\" x=\"187.841797\"/>\n      <use xlink:href=\"#DejaVuSans-68\" x=\"242.822266\"/>\n      <use xlink:href=\"#DejaVuSans-73\" x=\"306.201172\"/>\n     </g>\n    </g>\n   </g>\n   <g id=\"matplotlib.axis_4\">\n    <g id=\"ytick_8\">\n     <g id=\"line2d_23\">\n      <g>\n       <use xlink:href=\"#m72023ab0d9\" x=\"530.763068\" y=\"299.518125\" style=\"stroke: #000000; stroke-width: 0.8\"/>\n      </g>\n     </g>\n     <g id=\"text_26\">\n      <!-- 10 -->\n      <g transform=\"translate(511.038068 303.317344)scale(0.1 -0.1)\">\n       <use xlink:href=\"#DejaVuSans-31\"/>\n       <use xlink:href=\"#DejaVuSans-30\" x=\"63.623047\"/>\n      </g>\n     </g>\n    </g>\n    <g id=\"ytick_9\">\n     <g id=\"line2d_24\">\n      <g>\n       <use xlink:href=\"#m72023ab0d9\" x=\"530.763068\" y=\"268.718125\" style=\"stroke: #000000; stroke-width: 0.8\"/>\n      </g>\n     </g>\n     <g id=\"text_27\">\n      <!-- 20 -->\n      <g transform=\"translate(511.038068 272.517344)scale(0.1 -0.1)\">\n       <use xlink:href=\"#DejaVuSans-32\"/>\n       <use xlink:href=\"#DejaVuSans-30\" x=\"63.623047\"/>\n      </g>\n     </g>\n    </g>\n    <g id=\"ytick_10\">\n     <g id=\"line2d_25\">\n      <g>\n       <use xlink:href=\"#m72023ab0d9\" x=\"530.763068\" y=\"237.918125\" style=\"stroke: #000000; stroke-width: 0.8\"/>\n      </g>\n     </g>\n     <g id=\"text_28\">\n      <!-- 30 -->\n      <g transform=\"translate(511.038068 241.717344)scale(0.1 -0.1)\">\n       <use xlink:href=\"#DejaVuSans-33\"/>\n       <use xlink:href=\"#DejaVuSans-30\" x=\"63.623047\"/>\n      </g>\n     </g>\n    </g>\n    <g id=\"ytick_11\">\n     <g id=\"line2d_26\">\n      <g>\n       <use xlink:href=\"#m72023ab0d9\" x=\"530.763068\" y=\"207.118125\" style=\"stroke: #000000; stroke-width: 0.8\"/>\n      </g>\n     </g>\n     <g id=\"text_29\">\n      <!-- 40 -->\n      <g transform=\"translate(511.038068 210.917344)scale(0.1 -0.1)\">\n       <defs>\n        <path id=\"DejaVuSans-34\" d=\"M 2419 4116 \nL 825 1625 \nL 2419 1625 \nL 2419 4116 \nz\nM 2253 4666 \nL 3047 4666 \nL 3047 1625 \nL 3713 1625 \nL 3713 1100 \nL 3047 1100 \nL 3047 0 \nL 2419 0 \nL 2419 1100 \nL 313 1100 \nL 313 1709 \nL 2253 4666 \nz\n\" transform=\"scale(0.015625)\"/>\n       </defs>\n       <use xlink:href=\"#DejaVuSans-34\"/>\n       <use xlink:href=\"#DejaVuSans-30\" x=\"63.623047\"/>\n      </g>\n     </g>\n    </g>\n    <g id=\"ytick_12\">\n     <g id=\"line2d_27\">\n      <g>\n       <use xlink:href=\"#m72023ab0d9\" x=\"530.763068\" y=\"176.318125\" style=\"stroke: #000000; stroke-width: 0.8\"/>\n      </g>\n     </g>\n     <g id=\"text_30\">\n      <!-- 50 -->\n      <g transform=\"translate(511.038068 180.117344)scale(0.1 -0.1)\">\n       <use xlink:href=\"#DejaVuSans-35\"/>\n       <use xlink:href=\"#DejaVuSans-30\" x=\"63.623047\"/>\n      </g>\n     </g>\n    </g>\n    <g id=\"ytick_13\">\n     <g id=\"line2d_28\">\n      <g>\n       <use xlink:href=\"#m72023ab0d9\" x=\"530.763068\" y=\"145.518125\" style=\"stroke: #000000; stroke-width: 0.8\"/>\n      </g>\n     </g>\n     <g id=\"text_31\">\n      <!-- 60 -->\n      <g transform=\"translate(511.038068 149.317344)scale(0.1 -0.1)\">\n       <defs>\n        <path id=\"DejaVuSans-36\" d=\"M 2113 2584 \nQ 1688 2584 1439 2293 \nQ 1191 2003 1191 1497 \nQ 1191 994 1439 701 \nQ 1688 409 2113 409 \nQ 2538 409 2786 701 \nQ 3034 994 3034 1497 \nQ 3034 2003 2786 2293 \nQ 2538 2584 2113 2584 \nz\nM 3366 4563 \nL 3366 3988 \nQ 3128 4100 2886 4159 \nQ 2644 4219 2406 4219 \nQ 1781 4219 1451 3797 \nQ 1122 3375 1075 2522 \nQ 1259 2794 1537 2939 \nQ 1816 3084 2150 3084 \nQ 2853 3084 3261 2657 \nQ 3669 2231 3669 1497 \nQ 3669 778 3244 343 \nQ 2819 -91 2113 -91 \nQ 1303 -91 875 529 \nQ 447 1150 447 2328 \nQ 447 3434 972 4092 \nQ 1497 4750 2381 4750 \nQ 2619 4750 2861 4703 \nQ 3103 4656 3366 4563 \nz\n\" transform=\"scale(0.015625)\"/>\n       </defs>\n       <use xlink:href=\"#DejaVuSans-36\"/>\n       <use xlink:href=\"#DejaVuSans-30\" x=\"63.623047\"/>\n      </g>\n     </g>\n    </g>\n    <g id=\"ytick_14\">\n     <g id=\"line2d_29\">\n      <g>\n       <use xlink:href=\"#m72023ab0d9\" x=\"530.763068\" y=\"114.718125\" style=\"stroke: #000000; stroke-width: 0.8\"/>\n      </g>\n     </g>\n     <g id=\"text_32\">\n      <!-- 70 -->\n      <g transform=\"translate(511.038068 118.517344)scale(0.1 -0.1)\">\n       <defs>\n        <path id=\"DejaVuSans-37\" d=\"M 525 4666 \nL 3525 4666 \nL 3525 4397 \nL 1831 0 \nL 1172 0 \nL 2766 4134 \nL 525 4134 \nL 525 4666 \nz\n\" transform=\"scale(0.015625)\"/>\n       </defs>\n       <use xlink:href=\"#DejaVuSans-37\"/>\n       <use xlink:href=\"#DejaVuSans-30\" x=\"63.623047\"/>\n      </g>\n     </g>\n    </g>\n    <g id=\"ytick_15\">\n     <g id=\"line2d_30\">\n      <g>\n       <use xlink:href=\"#m72023ab0d9\" x=\"530.763068\" y=\"83.918125\" style=\"stroke: #000000; stroke-width: 0.8\"/>\n      </g>\n     </g>\n     <g id=\"text_33\">\n      <!-- 80 -->\n      <g transform=\"translate(511.038068 87.717344)scale(0.1 -0.1)\">\n       <defs>\n        <path id=\"DejaVuSans-38\" d=\"M 2034 2216 \nQ 1584 2216 1326 1975 \nQ 1069 1734 1069 1313 \nQ 1069 891 1326 650 \nQ 1584 409 2034 409 \nQ 2484 409 2743 651 \nQ 3003 894 3003 1313 \nQ 3003 1734 2745 1975 \nQ 2488 2216 2034 2216 \nz\nM 1403 2484 \nQ 997 2584 770 2862 \nQ 544 3141 544 3541 \nQ 544 4100 942 4425 \nQ 1341 4750 2034 4750 \nQ 2731 4750 3128 4425 \nQ 3525 4100 3525 3541 \nQ 3525 3141 3298 2862 \nQ 3072 2584 2669 2484 \nQ 3125 2378 3379 2068 \nQ 3634 1759 3634 1313 \nQ 3634 634 3220 271 \nQ 2806 -91 2034 -91 \nQ 1263 -91 848 271 \nQ 434 634 434 1313 \nQ 434 1759 690 2068 \nQ 947 2378 1403 2484 \nz\nM 1172 3481 \nQ 1172 3119 1398 2916 \nQ 1625 2713 2034 2713 \nQ 2441 2713 2670 2916 \nQ 2900 3119 2900 3481 \nQ 2900 3844 2670 4047 \nQ 2441 4250 2034 4250 \nQ 1625 4250 1398 4047 \nQ 1172 3844 1172 3481 \nz\n\" transform=\"scale(0.015625)\"/>\n       </defs>\n       <use xlink:href=\"#DejaVuSans-38\"/>\n       <use xlink:href=\"#DejaVuSans-30\" x=\"63.623047\"/>\n      </g>\n     </g>\n    </g>\n    <g id=\"ytick_16\">\n     <g id=\"line2d_31\">\n      <g>\n       <use xlink:href=\"#m72023ab0d9\" x=\"530.763068\" y=\"53.118125\" style=\"stroke: #000000; stroke-width: 0.8\"/>\n      </g>\n     </g>\n     <g id=\"text_34\">\n      <!-- 90 -->\n      <g transform=\"translate(511.038068 56.917344)scale(0.1 -0.1)\">\n       <defs>\n        <path id=\"DejaVuSans-39\" d=\"M 703 97 \nL 703 672 \nQ 941 559 1184 500 \nQ 1428 441 1663 441 \nQ 2288 441 2617 861 \nQ 2947 1281 2994 2138 \nQ 2813 1869 2534 1725 \nQ 2256 1581 1919 1581 \nQ 1219 1581 811 2004 \nQ 403 2428 403 3163 \nQ 403 3881 828 4315 \nQ 1253 4750 1959 4750 \nQ 2769 4750 3195 4129 \nQ 3622 3509 3622 2328 \nQ 3622 1225 3098 567 \nQ 2575 -91 1691 -91 \nQ 1453 -91 1209 -44 \nQ 966 3 703 97 \nz\nM 1959 2075 \nQ 2384 2075 2632 2365 \nQ 2881 2656 2881 3163 \nQ 2881 3666 2632 3958 \nQ 2384 4250 1959 4250 \nQ 1534 4250 1286 3958 \nQ 1038 3666 1038 3163 \nQ 1038 2656 1286 2365 \nQ 1534 2075 1959 2075 \nz\n\" transform=\"scale(0.015625)\"/>\n       </defs>\n       <use xlink:href=\"#DejaVuSans-39\"/>\n       <use xlink:href=\"#DejaVuSans-30\" x=\"63.623047\"/>\n      </g>\n     </g>\n    </g>\n    <g id=\"ytick_17\">\n     <g id=\"line2d_32\">\n      <g>\n       <use xlink:href=\"#m72023ab0d9\" x=\"530.763068\" y=\"22.318125\" style=\"stroke: #000000; stroke-width: 0.8\"/>\n      </g>\n     </g>\n     <g id=\"text_35\">\n      <!-- 100 -->\n      <g transform=\"translate(504.675568 26.117344)scale(0.1 -0.1)\">\n       <use xlink:href=\"#DejaVuSans-31\"/>\n       <use xlink:href=\"#DejaVuSans-30\" x=\"63.623047\"/>\n       <use xlink:href=\"#DejaVuSans-30\" x=\"127.246094\"/>\n      </g>\n     </g>\n    </g>\n    <g id=\"text_36\">\n     <!-- Accuracy (%) -->\n     <g transform=\"translate(498.595881 193.987656)rotate(-90)scale(0.1 -0.1)\">\n      <defs>\n       <path id=\"DejaVuSans-41\" d=\"M 2188 4044 \nL 1331 1722 \nL 3047 1722 \nL 2188 4044 \nz\nM 1831 4666 \nL 2547 4666 \nL 4325 0 \nL 3669 0 \nL 3244 1197 \nL 1141 1197 \nL 716 0 \nL 50 0 \nL 1831 4666 \nz\n\" transform=\"scale(0.015625)\"/>\n       <path id=\"DejaVuSans-75\" d=\"M 544 1381 \nL 544 3500 \nL 1119 3500 \nL 1119 1403 \nQ 1119 906 1312 657 \nQ 1506 409 1894 409 \nQ 2359 409 2629 706 \nQ 2900 1003 2900 1516 \nL 2900 3500 \nL 3475 3500 \nL 3475 0 \nL 2900 0 \nL 2900 538 \nQ 2691 219 2414 64 \nQ 2138 -91 1772 -91 \nQ 1169 -91 856 284 \nQ 544 659 544 1381 \nz\nM 1991 3584 \nL 1991 3584 \nz\n\" transform=\"scale(0.015625)\"/>\n       <path id=\"DejaVuSans-72\" d=\"M 2631 2963 \nQ 2534 3019 2420 3045 \nQ 2306 3072 2169 3072 \nQ 1681 3072 1420 2755 \nQ 1159 2438 1159 1844 \nL 1159 0 \nL 581 0 \nL 581 3500 \nL 1159 3500 \nL 1159 2956 \nQ 1341 3275 1631 3429 \nQ 1922 3584 2338 3584 \nQ 2397 3584 2469 3576 \nQ 2541 3569 2628 3553 \nL 2631 2963 \nz\n\" transform=\"scale(0.015625)\"/>\n       <path id=\"DejaVuSans-61\" d=\"M 2194 1759 \nQ 1497 1759 1228 1600 \nQ 959 1441 959 1056 \nQ 959 750 1161 570 \nQ 1363 391 1709 391 \nQ 2188 391 2477 730 \nQ 2766 1069 2766 1631 \nL 2766 1759 \nL 2194 1759 \nz\nM 3341 1997 \nL 3341 0 \nL 2766 0 \nL 2766 531 \nQ 2569 213 2275 61 \nQ 1981 -91 1556 -91 \nQ 1019 -91 701 211 \nQ 384 513 384 1019 \nQ 384 1609 779 1909 \nQ 1175 2209 1959 2209 \nL 2766 2209 \nL 2766 2266 \nQ 2766 2663 2505 2880 \nQ 2244 3097 1772 3097 \nQ 1472 3097 1187 3025 \nQ 903 2953 641 2809 \nL 641 3341 \nQ 956 3463 1253 3523 \nQ 1550 3584 1831 3584 \nQ 2591 3584 2966 3190 \nQ 3341 2797 3341 1997 \nz\n\" transform=\"scale(0.015625)\"/>\n       <path id=\"DejaVuSans-79\" d=\"M 2059 -325 \nQ 1816 -950 1584 -1140 \nQ 1353 -1331 966 -1331 \nL 506 -1331 \nL 506 -850 \nL 844 -850 \nQ 1081 -850 1212 -737 \nQ 1344 -625 1503 -206 \nL 1606 56 \nL 191 3500 \nL 800 3500 \nL 1894 763 \nL 2988 3500 \nL 3597 3500 \nL 2059 -325 \nz\n\" transform=\"scale(0.015625)\"/>\n       <path id=\"DejaVuSans-28\" d=\"M 1984 4856 \nQ 1566 4138 1362 3434 \nQ 1159 2731 1159 2009 \nQ 1159 1288 1364 580 \nQ 1569 -128 1984 -844 \nL 1484 -844 \nQ 1016 -109 783 600 \nQ 550 1309 550 2009 \nQ 550 2706 781 3412 \nQ 1013 4119 1484 4856 \nL 1984 4856 \nz\n\" transform=\"scale(0.015625)\"/>\n       <path id=\"DejaVuSans-25\" d=\"M 4653 2053 \nQ 4381 2053 4226 1822 \nQ 4072 1591 4072 1178 \nQ 4072 772 4226 539 \nQ 4381 306 4653 306 \nQ 4919 306 5073 539 \nQ 5228 772 5228 1178 \nQ 5228 1588 5073 1820 \nQ 4919 2053 4653 2053 \nz\nM 4653 2450 \nQ 5147 2450 5437 2106 \nQ 5728 1763 5728 1178 \nQ 5728 594 5436 251 \nQ 5144 -91 4653 -91 \nQ 4153 -91 3862 251 \nQ 3572 594 3572 1178 \nQ 3572 1766 3864 2108 \nQ 4156 2450 4653 2450 \nz\nM 1428 4353 \nQ 1159 4353 1004 4120 \nQ 850 3888 850 3481 \nQ 850 3069 1003 2837 \nQ 1156 2606 1428 2606 \nQ 1700 2606 1854 2837 \nQ 2009 3069 2009 3481 \nQ 2009 3884 1853 4118 \nQ 1697 4353 1428 4353 \nz\nM 4250 4750 \nL 4750 4750 \nL 1831 -91 \nL 1331 -91 \nL 4250 4750 \nz\nM 1428 4750 \nQ 1922 4750 2215 4408 \nQ 2509 4066 2509 3481 \nQ 2509 2891 2217 2550 \nQ 1925 2209 1428 2209 \nQ 931 2209 642 2551 \nQ 353 2894 353 3481 \nQ 353 4063 643 4406 \nQ 934 4750 1428 4750 \nz\n\" transform=\"scale(0.015625)\"/>\n       <path id=\"DejaVuSans-29\" d=\"M 513 4856 \nL 1013 4856 \nQ 1481 4119 1714 3412 \nQ 1947 2706 1947 2009 \nQ 1947 1309 1714 600 \nQ 1481 -109 1013 -844 \nL 513 -844 \nQ 928 -128 1133 580 \nQ 1338 1288 1338 2009 \nQ 1338 2731 1133 3434 \nQ 928 4138 513 4856 \nz\n\" transform=\"scale(0.015625)\"/>\n      </defs>\n      <use xlink:href=\"#DejaVuSans-41\"/>\n      <use xlink:href=\"#DejaVuSans-63\" x=\"66.658203\"/>\n      <use xlink:href=\"#DejaVuSans-63\" x=\"121.638672\"/>\n      <use xlink:href=\"#DejaVuSans-75\" x=\"176.619141\"/>\n      <use xlink:href=\"#DejaVuSans-72\" x=\"239.998047\"/>\n      <use xlink:href=\"#DejaVuSans-61\" x=\"281.111328\"/>\n      <use xlink:href=\"#DejaVuSans-63\" x=\"342.390625\"/>\n      <use xlink:href=\"#DejaVuSans-79\" x=\"397.371094\"/>\n      <use xlink:href=\"#DejaVuSans-20\" x=\"456.550781\"/>\n      <use xlink:href=\"#DejaVuSans-28\" x=\"488.337891\"/>\n      <use xlink:href=\"#DejaVuSans-25\" x=\"527.351562\"/>\n      <use xlink:href=\"#DejaVuSans-29\" x=\"622.371094\"/>\n     </g>\n    </g>\n   </g>\n   <g id=\"line2d_33\">\n    <path d=\"M 549.209349 128.193125 \nL 550.443214 86.943115 \nL 551.677079 86.943115 \nL 552.910944 74.568128 \nL 554.144809 70.443125 \nL 555.378674 60.818125 \nL 556.612539 66.318122 \nL 557.846404 74.568128 \nL 559.080269 62.193118 \nL 560.314134 74.568128 \nL 561.547999 60.818125 \nL 562.781864 59.443132 \nL 564.015729 66.318122 \nL 565.249594 60.818125 \nL 566.483458 51.193125 \nL 567.717323 62.193118 \nL 568.951188 63.568135 \nL 570.185053 69.068132 \nL 571.418918 56.693122 \nL 572.652783 59.443132 \nL 573.886648 48.443115 \nL 575.120513 55.318128 \nL 576.354378 55.318128 \nL 577.588243 66.318122 \nL 578.822108 59.443132 \nL 580.055973 40.193132 \nL 581.289838 53.943135 \nL 582.523703 40.193132 \nL 583.757568 41.568125 \nL 584.991433 48.443115 \nL 586.225298 41.568125 \nL 587.459163 48.443115 \nL 588.693028 49.818132 \nL 589.926892 48.443115 \nL 591.160757 49.818132 \nL 592.394622 40.193132 \nL 593.628487 45.693128 \nL 594.862352 59.443132 \nL 596.096217 37.443122 \nL 597.330082 49.818132 \nL 598.563947 38.818115 \nL 599.797812 44.318135 \nL 601.031677 40.193132 \nL 602.265542 41.568125 \nL 603.499407 40.193132 \nL 604.733272 40.193132 \nL 605.967137 36.068128 \nL 607.201002 47.068122 \nL 608.434867 33.318118 \nL 609.668732 47.068122 \nL 610.902597 37.443122 \nL 613.370327 40.193132 \nL 614.604191 36.068128 \nL 615.838056 37.443122 \nL 617.071921 44.318135 \nL 618.305786 36.068128 \nL 619.539651 36.068128 \nL 622.007381 41.568125 \nL 623.241246 30.568132 \nL 624.475111 37.443122 \nL 625.708976 42.943118 \nL 626.942841 47.068122 \nL 629.410571 33.318118 \nL 630.644436 36.068128 \nL 631.878301 33.318118 \nL 633.112166 29.193115 \nL 634.346031 38.818115 \nL 635.579896 31.943125 \nL 636.813761 33.318118 \nL 638.047626 36.068128 \nL 639.28149 26.443128 \nL 640.515355 31.943125 \nL 641.74922 30.568132 \nL 642.983085 37.443122 \nL 644.21695 31.943125 \nL 645.450815 36.068128 \nL 647.918545 27.818122 \nL 649.15241 38.818115 \nL 650.386275 33.318118 \nL 651.62014 30.568132 \nL 652.854005 36.068128 \nL 654.08787 36.068128 \nL 655.321735 30.568132 \nL 656.5556 34.693135 \nL 657.789465 29.193115 \nL 659.02333 31.943125 \nL 660.257195 27.818122 \nL 661.49106 40.193132 \nL 662.724925 34.693135 \nL 663.958789 40.193132 \nL 665.192654 36.068128 \nL 666.426519 30.568132 \nL 667.660384 33.318118 \nL 668.894249 40.193132 \nL 670.128114 37.443122 \nL 671.361979 36.068128 \nL 672.595844 27.818122 \nL 673.829709 33.318118 \nL 675.063574 26.443128 \nL 676.297439 30.568132 \nL 677.531304 29.193115 \nL 679.999034 29.193115 \nL 681.232899 30.568132 \nL 682.466764 40.193132 \nL 683.700629 26.443128 \nL 684.934494 33.318118 \nL 686.168359 37.443122 \nL 687.402223 27.818122 \nL 688.636088 31.943125 \nL 691.103818 29.193115 \nL 692.337683 26.443128 \nL 693.571548 29.193115 \nL 694.805413 25.068135 \nL 696.039278 26.443128 \nL 697.273143 30.568132 \nL 698.507008 27.818122 \nL 699.740873 30.568132 \nL 702.208603 33.318118 \nL 703.442468 37.443122 \nL 704.676333 33.318118 \nL 705.910198 25.068135 \nL 707.144063 26.443128 \nL 708.377928 31.943125 \nL 709.611793 31.943125 \nL 710.845658 36.068128 \nL 712.079522 29.193115 \nL 713.313387 27.818122 \nL 714.547252 25.068135 \nL 715.781117 25.068135 \nL 717.014982 37.443122 \nL 719.482712 26.443128 \nL 720.716577 25.068135 \nL 721.950442 30.568132 \nL 723.184307 23.693118 \nL 724.418172 33.318118 \nL 725.652037 29.193115 \nL 726.885902 27.818122 \nL 728.119767 25.068135 \nL 729.353632 31.943125 \nL 730.587497 29.193115 \nL 733.055227 26.443128 \nL 734.289092 30.568132 \nL 735.522957 37.443122 \nL 736.756821 38.818115 \nL 737.990686 34.693135 \nL 739.224551 27.818122 \nL 740.458416 36.068128 \nL 741.692281 29.193115 \nL 742.926146 29.193115 \nL 744.160011 33.318118 \nL 745.393876 29.193115 \nL 749.095471 29.193115 \nL 750.329336 36.068128 \nL 751.563201 29.193115 \nL 752.797066 31.943125 \nL 754.030931 31.943125 \nL 755.264796 27.818122 \nL 756.498661 27.818122 \nL 757.732526 30.568132 \nL 758.966391 30.568132 \nL 760.200256 27.818122 \nL 761.43412 30.568132 \nL 762.667985 29.193115 \nL 763.90185 26.443128 \nL 765.135715 25.068135 \nL 766.36958 25.068135 \nL 767.603445 33.318118 \nL 768.83731 25.068135 \nL 770.071175 25.068135 \nL 771.30504 29.193115 \nL 772.538905 27.818122 \nL 773.77277 25.068135 \nL 775.006635 26.443128 \nL 777.474365 26.443128 \nL 778.70823 22.318125 \nL 779.942095 29.193115 \nL 781.17596 25.068135 \nL 782.409825 29.193115 \nL 783.64369 27.818122 \nL 787.345284 27.818122 \nL 788.579149 29.193115 \nL 789.813014 31.943125 \nL 791.046879 31.943125 \nL 792.280744 33.318118 \nL 793.514609 26.443128 \nL 794.748474 26.443128 \nL 795.982339 23.693118 \nL 797.216204 29.193115 \nL 798.450069 33.318118 \nL 799.683934 26.443128 \nL 800.917799 36.068128 \nL 802.151664 29.193115 \nL 803.385529 26.443128 \nL 804.619394 26.443128 \nL 805.853259 29.193115 \nL 807.087124 27.818122 \nL 808.320989 23.693118 \nL 810.788718 23.693118 \nL 812.022583 27.818122 \nL 813.256448 27.818122 \nL 814.490313 22.318125 \nL 815.724178 26.443128 \nL 816.958043 29.193115 \nL 818.191908 25.068135 \nL 819.425773 27.818122 \nL 820.659638 25.068135 \nL 821.893503 25.068135 \nL 823.127368 27.818122 \nL 825.595098 27.818122 \nL 826.828963 26.443128 \nL 829.296693 29.193115 \nL 830.530558 31.943125 \nL 831.764423 27.818122 \nL 832.998288 26.443128 \nL 834.232152 26.443128 \nL 835.466017 22.318125 \nL 836.699882 26.443128 \nL 839.167612 23.693118 \nL 840.401477 31.943125 \nL 841.635342 22.318125 \nL 842.869207 27.818122 \nL 844.103072 26.443128 \nL 845.336937 22.318125 \nL 846.570802 30.568132 \nL 850.272397 26.443128 \nL 851.506262 29.193115 \nL 852.740127 22.318125 \nL 853.973992 31.943125 \nL 855.207857 27.818122 \nL 856.441722 29.193115 \nL 857.675586 34.693135 \nL 858.909451 25.068135 \nL 860.143316 30.568132 \nL 861.377181 22.318125 \nL 862.611046 31.943125 \nL 863.844911 25.068135 \nL 865.078776 26.443128 \nL 866.312641 23.693118 \nL 867.546506 33.318118 \nL 868.780371 34.693135 \nL 870.014236 27.818122 \nL 871.248101 26.443128 \nL 872.481966 26.443128 \nL 873.715831 23.693118 \nL 874.949696 31.943125 \nL 876.183561 27.818122 \nL 877.417426 25.068135 \nL 879.885156 36.068128 \nL 881.119021 23.693118 \nL 882.352885 22.318125 \nL 884.820615 27.818122 \nL 886.05448 23.693118 \nL 887.288345 26.443128 \nL 888.52221 22.318125 \nL 889.756075 25.068135 \nL 890.98994 25.068135 \nL 892.223805 23.693118 \nL 893.45767 25.068135 \nL 894.691535 23.693118 \nL 895.9254 26.443128 \nL 897.159265 25.068135 \nL 899.626995 25.068135 \nL 900.86086 23.693118 \nL 902.094725 26.443128 \nL 903.32859 25.068135 \nL 904.562455 22.318125 \nL 905.79632 26.443128 \nL 907.030184 25.068135 \nL 908.264049 27.818122 \nL 910.731779 27.818122 \nL 911.965644 26.443128 \nL 913.199509 29.193115 \nL 914.433374 27.818122 \nL 915.667239 27.818122 \nL 916.901104 23.693118 \nL 918.134969 22.318125 \nL 918.134969 22.318125 \n\" clip-path=\"url(#p86711db7d2)\" style=\"fill: none; stroke: #1f77b4; stroke-width: 1.5; stroke-linecap: square\"/>\n   </g>\n   <g id=\"line2d_34\">\n    <path d=\"M 549.209349 53.118125 \nL 550.443214 53.118125 \nL 551.677079 63.384799 \nL 554.144809 63.384799 \nL 555.378674 73.651474 \nL 556.612539 63.384799 \nL 557.846404 63.384799 \nL 559.080269 73.651474 \nL 565.249594 73.651474 \nL 566.483458 53.118125 \nL 567.717323 63.384799 \nL 568.951188 63.384799 \nL 570.185053 73.651474 \nL 571.418918 73.651474 \nL 572.652783 63.384799 \nL 573.886648 63.384799 \nL 575.120513 53.118125 \nL 578.822108 53.118125 \nL 580.055973 73.651474 \nL 582.523703 53.118125 \nL 584.991433 53.118125 \nL 586.225298 63.384799 \nL 597.330082 63.384799 \nL 598.563947 53.118125 \nL 599.797812 63.384799 \nL 604.733272 63.384799 \nL 605.967137 53.118125 \nL 607.201002 63.384799 \nL 612.136462 63.384799 \nL 613.370327 53.118125 \nL 617.071921 53.118125 \nL 618.305786 63.384799 \nL 619.539651 63.384799 \nL 620.773516 53.118125 \nL 622.007381 53.118125 \nL 623.241246 63.384799 \nL 626.942841 63.384799 \nL 628.176706 73.651474 \nL 629.410571 73.651474 \nL 630.644436 63.384799 \nL 640.515355 63.384799 \nL 641.74922 73.651474 \nL 642.983085 63.384799 \nL 694.805413 63.384799 \nL 696.039278 73.651474 \nL 697.273143 73.651474 \nL 698.507008 63.384799 \nL 702.208603 63.384799 \nL 703.442468 73.651474 \nL 704.676333 73.651474 \nL 705.910198 63.384799 \nL 710.845658 63.384799 \nL 712.079522 73.651474 \nL 718.248847 73.651474 \nL 719.482712 83.918125 \nL 720.716577 73.651474 \nL 724.418172 73.651474 \nL 725.652037 63.384799 \nL 729.353632 63.384799 \nL 730.587497 73.651474 \nL 740.458416 73.651474 \nL 741.692281 63.384799 \nL 742.926146 73.651474 \nL 745.393876 73.651474 \nL 746.627741 63.384799 \nL 747.861606 73.651474 \nL 779.942095 73.651474 \nL 781.17596 63.384799 \nL 782.409825 73.651474 \nL 786.111419 73.651474 \nL 787.345284 63.384799 \nL 788.579149 73.651474 \nL 789.813014 73.651474 \nL 791.046879 63.384799 \nL 792.280744 73.651474 \nL 797.216204 73.651474 \nL 798.450069 63.384799 \nL 799.683934 73.651474 \nL 814.490313 73.651474 \nL 815.724178 63.384799 \nL 816.958043 73.651474 \nL 819.425773 73.651474 \nL 820.659638 63.384799 \nL 821.893503 63.384799 \nL 823.127368 73.651474 \nL 824.361233 63.384799 \nL 826.828963 83.918125 \nL 829.296693 63.384799 \nL 831.764423 63.384799 \nL 832.998288 73.651474 \nL 845.336937 73.651474 \nL 846.570802 63.384799 \nL 849.038532 63.384799 \nL 850.272397 73.651474 \nL 851.506262 73.651474 \nL 852.740127 63.384799 \nL 853.973992 63.384799 \nL 855.207857 73.651474 \nL 862.611046 73.651474 \nL 863.844911 83.918125 \nL 865.078776 73.651474 \nL 878.651291 73.651474 \nL 879.885156 63.384799 \nL 881.119021 63.384799 \nL 882.352885 73.651474 \nL 890.98994 73.651474 \nL 892.223805 63.384799 \nL 895.9254 63.384799 \nL 897.159265 73.651474 \nL 918.134969 73.651474 \nL 918.134969 73.651474 \n\" clip-path=\"url(#p86711db7d2)\" style=\"fill: none; stroke: #ff7f0e; stroke-width: 1.5; stroke-linecap: square\"/>\n   </g>\n   <g id=\"patch_8\">\n    <path d=\"M 530.763068 299.518125 \nL 530.763068 22.318125 \n\" style=\"fill: none; stroke: #000000; stroke-width: 0.8; stroke-linejoin: miter; stroke-linecap: square\"/>\n   </g>\n   <g id=\"patch_9\">\n    <path d=\"M 936.58125 299.518125 \nL 936.58125 22.318125 \n\" style=\"fill: none; stroke: #000000; stroke-width: 0.8; stroke-linejoin: miter; stroke-linecap: square\"/>\n   </g>\n   <g id=\"patch_10\">\n    <path d=\"M 530.763068 299.518125 \nL 936.58125 299.518125 \n\" style=\"fill: none; stroke: #000000; stroke-width: 0.8; stroke-linejoin: miter; stroke-linecap: square\"/>\n   </g>\n   <g id=\"patch_11\">\n    <path d=\"M 530.763068 22.318125 \nL 936.58125 22.318125 \n\" style=\"fill: none; stroke: #000000; stroke-width: 0.8; stroke-linejoin: miter; stroke-linecap: square\"/>\n   </g>\n   <g id=\"text_37\">\n    <!-- Final model test accuracy: 83.33% -->\n    <g transform=\"translate(630.474972 16.318125)scale(0.12 -0.12)\">\n     <defs>\n      <path id=\"DejaVuSans-46\" d=\"M 628 4666 \nL 3309 4666 \nL 3309 4134 \nL 1259 4134 \nL 1259 2759 \nL 3109 2759 \nL 3109 2228 \nL 1259 2228 \nL 1259 0 \nL 628 0 \nL 628 4666 \nz\n\" transform=\"scale(0.015625)\"/>\n      <path id=\"DejaVuSans-69\" d=\"M 603 3500 \nL 1178 3500 \nL 1178 0 \nL 603 0 \nL 603 3500 \nz\nM 603 4863 \nL 1178 4863 \nL 1178 4134 \nL 603 4134 \nL 603 4863 \nz\n\" transform=\"scale(0.015625)\"/>\n      <path id=\"DejaVuSans-6e\" d=\"M 3513 2113 \nL 3513 0 \nL 2938 0 \nL 2938 2094 \nQ 2938 2591 2744 2837 \nQ 2550 3084 2163 3084 \nQ 1697 3084 1428 2787 \nQ 1159 2491 1159 1978 \nL 1159 0 \nL 581 0 \nL 581 3500 \nL 1159 3500 \nL 1159 2956 \nQ 1366 3272 1645 3428 \nQ 1925 3584 2291 3584 \nQ 2894 3584 3203 3211 \nQ 3513 2838 3513 2113 \nz\n\" transform=\"scale(0.015625)\"/>\n      <path id=\"DejaVuSans-6d\" d=\"M 3328 2828 \nQ 3544 3216 3844 3400 \nQ 4144 3584 4550 3584 \nQ 5097 3584 5394 3201 \nQ 5691 2819 5691 2113 \nL 5691 0 \nL 5113 0 \nL 5113 2094 \nQ 5113 2597 4934 2840 \nQ 4756 3084 4391 3084 \nQ 3944 3084 3684 2787 \nQ 3425 2491 3425 1978 \nL 3425 0 \nL 2847 0 \nL 2847 2094 \nQ 2847 2600 2669 2842 \nQ 2491 3084 2119 3084 \nQ 1678 3084 1418 2786 \nQ 1159 2488 1159 1978 \nL 1159 0 \nL 581 0 \nL 581 3500 \nL 1159 3500 \nL 1159 2956 \nQ 1356 3278 1631 3431 \nQ 1906 3584 2284 3584 \nQ 2666 3584 2933 3390 \nQ 3200 3197 3328 2828 \nz\n\" transform=\"scale(0.015625)\"/>\n      <path id=\"DejaVuSans-74\" d=\"M 1172 4494 \nL 1172 3500 \nL 2356 3500 \nL 2356 3053 \nL 1172 3053 \nL 1172 1153 \nQ 1172 725 1289 603 \nQ 1406 481 1766 481 \nL 2356 481 \nL 2356 0 \nL 1766 0 \nQ 1100 0 847 248 \nQ 594 497 594 1153 \nL 594 3053 \nL 172 3053 \nL 172 3500 \nL 594 3500 \nL 594 4494 \nL 1172 4494 \nz\n\" transform=\"scale(0.015625)\"/>\n      <path id=\"DejaVuSans-3a\" d=\"M 750 794 \nL 1409 794 \nL 1409 0 \nL 750 0 \nL 750 794 \nz\nM 750 3309 \nL 1409 3309 \nL 1409 2516 \nL 750 2516 \nL 750 3309 \nz\n\" transform=\"scale(0.015625)\"/>\n     </defs>\n     <use xlink:href=\"#DejaVuSans-46\"/>\n     <use xlink:href=\"#DejaVuSans-69\" x=\"50.269531\"/>\n     <use xlink:href=\"#DejaVuSans-6e\" x=\"78.052734\"/>\n     <use xlink:href=\"#DejaVuSans-61\" x=\"141.431641\"/>\n     <use xlink:href=\"#DejaVuSans-6c\" x=\"202.710938\"/>\n     <use xlink:href=\"#DejaVuSans-20\" x=\"230.494141\"/>\n     <use xlink:href=\"#DejaVuSans-6d\" x=\"262.28125\"/>\n     <use xlink:href=\"#DejaVuSans-6f\" x=\"359.693359\"/>\n     <use xlink:href=\"#DejaVuSans-64\" x=\"420.875\"/>\n     <use xlink:href=\"#DejaVuSans-65\" x=\"484.351562\"/>\n     <use xlink:href=\"#DejaVuSans-6c\" x=\"545.875\"/>\n     <use xlink:href=\"#DejaVuSans-20\" x=\"573.658203\"/>\n     <use xlink:href=\"#DejaVuSans-74\" x=\"605.445312\"/>\n     <use xlink:href=\"#DejaVuSans-65\" x=\"644.654297\"/>\n     <use xlink:href=\"#DejaVuSans-73\" x=\"706.177734\"/>\n     <use xlink:href=\"#DejaVuSans-74\" x=\"758.277344\"/>\n     <use xlink:href=\"#DejaVuSans-20\" x=\"797.486328\"/>\n     <use xlink:href=\"#DejaVuSans-61\" x=\"829.273438\"/>\n     <use xlink:href=\"#DejaVuSans-63\" x=\"890.552734\"/>\n     <use xlink:href=\"#DejaVuSans-63\" x=\"945.533203\"/>\n     <use xlink:href=\"#DejaVuSans-75\" x=\"1000.513672\"/>\n     <use xlink:href=\"#DejaVuSans-72\" x=\"1063.892578\"/>\n     <use xlink:href=\"#DejaVuSans-61\" x=\"1105.005859\"/>\n     <use xlink:href=\"#DejaVuSans-63\" x=\"1166.285156\"/>\n     <use xlink:href=\"#DejaVuSans-79\" x=\"1221.265625\"/>\n     <use xlink:href=\"#DejaVuSans-3a\" x=\"1273.195312\"/>\n     <use xlink:href=\"#DejaVuSans-20\" x=\"1306.886719\"/>\n     <use xlink:href=\"#DejaVuSans-38\" x=\"1338.673828\"/>\n     <use xlink:href=\"#DejaVuSans-33\" x=\"1402.296875\"/>\n     <use xlink:href=\"#DejaVuSans-2e\" x=\"1465.919922\"/>\n     <use xlink:href=\"#DejaVuSans-33\" x=\"1497.707031\"/>\n     <use xlink:href=\"#DejaVuSans-33\" x=\"1561.330078\"/>\n     <use xlink:href=\"#DejaVuSans-25\" x=\"1624.953125\"/>\n    </g>\n   </g>\n   <g id=\"legend_1\">\n    <g id=\"patch_12\">\n     <path d=\"M 537.763068 294.518125 \nL 593.750568 294.518125 \nQ 595.750568 294.518125 595.750568 292.518125 \nL 595.750568 264.161875 \nQ 595.750568 262.161875 593.750568 262.161875 \nL 537.763068 262.161875 \nQ 535.763068 262.161875 535.763068 264.161875 \nL 535.763068 292.518125 \nQ 535.763068 294.518125 537.763068 294.518125 \nz\n\" style=\"fill: #ffffff; opacity: 0.8; stroke: #cccccc; stroke-linejoin: miter\"/>\n    </g>\n    <g id=\"line2d_35\">\n     <path d=\"M 539.763068 270.260313 \nL 549.763068 270.260313 \nL 559.763068 270.260313 \n\" style=\"fill: none; stroke: #1f77b4; stroke-width: 1.5; stroke-linecap: square\"/>\n    </g>\n    <g id=\"text_38\">\n     <!-- Train -->\n     <g transform=\"translate(567.763068 273.760313)scale(0.1 -0.1)\">\n      <defs>\n       <path id=\"DejaVuSans-54\" d=\"M -19 4666 \nL 3928 4666 \nL 3928 4134 \nL 2272 4134 \nL 2272 0 \nL 1638 0 \nL 1638 4134 \nL -19 4134 \nL -19 4666 \nz\n\" transform=\"scale(0.015625)\"/>\n      </defs>\n      <use xlink:href=\"#DejaVuSans-54\"/>\n      <use xlink:href=\"#DejaVuSans-72\" x=\"46.333984\"/>\n      <use xlink:href=\"#DejaVuSans-61\" x=\"87.447266\"/>\n      <use xlink:href=\"#DejaVuSans-69\" x=\"148.726562\"/>\n      <use xlink:href=\"#DejaVuSans-6e\" x=\"176.509766\"/>\n     </g>\n    </g>\n    <g id=\"line2d_36\">\n     <path d=\"M 539.763068 284.938438 \nL 549.763068 284.938438 \nL 559.763068 284.938438 \n\" style=\"fill: none; stroke: #ff7f0e; stroke-width: 1.5; stroke-linecap: square\"/>\n    </g>\n    <g id=\"text_39\">\n     <!-- Test -->\n     <g transform=\"translate(567.763068 288.438438)scale(0.1 -0.1)\">\n      <use xlink:href=\"#DejaVuSans-54\"/>\n      <use xlink:href=\"#DejaVuSans-65\" x=\"44.083984\"/>\n      <use xlink:href=\"#DejaVuSans-73\" x=\"105.607422\"/>\n      <use xlink:href=\"#DejaVuSans-74\" x=\"157.707031\"/>\n     </g>\n    </g>\n   </g>\n  </g>\n </g>\n <defs>\n  <clipPath id=\"pbf85bc399a\">\n   <rect x=\"43.78125\" y=\"22.318125\" width=\"405.818182\" height=\"277.2\"/>\n  </clipPath>\n  <clipPath id=\"p86711db7d2\">\n   <rect x=\"530.763068\" y=\"22.318125\" width=\"405.818182\" height=\"277.2\"/>\n  </clipPath>\n </defs>\n</svg>\n",
      "text/plain": [
       "<Figure size 1600x500 with 2 Axes>"
      ]
     },
     "metadata": {},
     "output_type": "display_data"
    }
   ],
   "source": [
    "# Display results\n",
    "fig,ax = plt.subplots(1, 2, figsize = (16, 5))\n",
    "\n",
    "ax[0].plot(losses)\n",
    "ax[0].set_xlabel(\"Epochs\")\n",
    "ax[0].set_ylabel(\"Loss\")\n",
    "ax[0].set_ylim([0, 3])\n",
    "ax[0].set_title(\"Model loss\")\n",
    "\n",
    "ax[1].plot(train_accuracy,label = \"Train\")\n",
    "ax[1].plot(test_accuracy,label = \"Test\")\n",
    "ax[1].set_xlabel(\"Epochs\")\n",
    "ax[1].set_ylabel(\"Accuracy (%)\")\n",
    "ax[1].set_ylim([10, 100])\n",
    "ax[1].set_title(f\"Final model test accuracy: {test_accuracy[-1]:.2f}%\")\n",
    "\n",
    "ax[1].legend();\n"
   ]
  }
 ],
 "metadata": {
  "kernelspec": {
   "display_name": "Python 3.8.13 ('datascience')",
   "language": "python",
   "name": "python3"
  },
  "language_info": {
   "codemirror_mode": {
    "name": "ipython",
    "version": 3
   },
   "file_extension": ".py",
   "mimetype": "text/x-python",
   "name": "python",
   "nbconvert_exporter": "python",
   "pygments_lexer": "ipython3",
   "version": "3.8.13"
  },
  "orig_nbformat": 4,
  "vscode": {
   "interpreter": {
    "hash": "d203a7fbe37afbb990fedfc21c321928443618f3d7b991e0237ff71906aa031f"
   }
  }
 },
 "nbformat": 4,
 "nbformat_minor": 2
}
