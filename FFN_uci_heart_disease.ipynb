{
 "cells": [
  {
   "cell_type": "markdown",
   "metadata": {},
   "source": [
    "# A Feed Forward Network to Predict Heart Disease"
   ]
  },
  {
   "cell_type": "code",
   "execution_count": 1,
   "metadata": {},
   "outputs": [
    {
     "name": "stderr",
     "output_type": "stream",
     "text": [
      "/var/folders/wk/cgsrf1m50qx268ccx7b33rdr0000gn/T/ipykernel_27174/4185160223.py:12: DeprecationWarning: `set_matplotlib_formats` is deprecated since IPython 7.23, directly use `matplotlib_inline.backend_inline.set_matplotlib_formats()`\n",
      "  display.set_matplotlib_formats(\"svg\")\n"
     ]
    }
   ],
   "source": [
    "# Load libraries / packages / functions\n",
    "import pandas as pd\n",
    "import numpy as np\n",
    "import matplotlib.pyplot as plt\n",
    "from torch.utils.data import DataLoader, TensorDataset\n",
    "import torch\n",
    "from sklearn.preprocessing import StandardScaler\n",
    "from sklearn.model_selection import train_test_split\n",
    "\n",
    "# Change the graphics settings to display vector graphics for prettier outputs\n",
    "from IPython import display\n",
    "display.set_matplotlib_formats(\"svg\")\n",
    "\n",
    "# Self-defined functions in python scripts in this project\n",
    "# (some imports are likely to be redundant)\n",
    "from read_data import read_data\n",
    "from FFNHeartDisease import FFNHeartDisease\n",
    "from initiate_model import initiate_model\n",
    "from train_model import train_model"
   ]
  },
  {
   "cell_type": "code",
   "execution_count": 2,
   "metadata": {},
   "outputs": [
    {
     "name": "stdout",
     "output_type": "stream",
     "text": [
      "(303, 14)\n",
      "0     float64\n",
      "1     float64\n",
      "2     float64\n",
      "3     float64\n",
      "4     float64\n",
      "5     float64\n",
      "6     float64\n",
      "7     float64\n",
      "8     float64\n",
      "9     float64\n",
      "10    float64\n",
      "11     object\n",
      "12     object\n",
      "13      int64\n",
      "dtype: object\n"
     ]
    }
   ],
   "source": [
    "# Read the data and get a small glimpse at the data (pd.DataFrame)\n",
    "data = read_data()[0]\n",
    "print(data.shape)\n",
    "print(data.dtypes)"
   ]
  },
  {
   "cell_type": "code",
   "execution_count": 3,
   "metadata": {},
   "outputs": [
    {
     "name": "stdout",
     "output_type": "stream",
     "text": [
      "(297, 14)\n",
      "0     float64\n",
      "1     float64\n",
      "2     float64\n",
      "3     float64\n",
      "4     float64\n",
      "5     float64\n",
      "6     float64\n",
      "7     float64\n",
      "8     float64\n",
      "9     float64\n",
      "10    float64\n",
      "11    float64\n",
      "12    float64\n",
      "13    float64\n",
      "dtype: object\n"
     ]
    }
   ],
   "source": [
    "# Remove rows with missing values (?)\n",
    "\n",
    "data = data.replace(\"?\", np.nan)\n",
    "data = data.dropna(axis = 0)\n",
    "print(data.shape)\n",
    "data = data.astype(float)\n",
    "print(data.dtypes)\n"
   ]
  },
  {
   "cell_type": "code",
   "execution_count": 4,
   "metadata": {},
   "outputs": [],
   "source": [
    "# Divide data into the predictors and outcomes\n",
    "y = np.zeros(len(data))\n",
    "y[data[13] > 0] = 1\n",
    "X = data.iloc[:, :13]"
   ]
  },
  {
   "cell_type": "code",
   "execution_count": 5,
   "metadata": {},
   "outputs": [
    {
     "name": "stdout",
     "output_type": "stream",
     "text": [
      "(237, 13) (237,)\n",
      "(30, 13) (30,)\n",
      "(30, 13) (30,)\n"
     ]
    }
   ],
   "source": [
    "# Train-test-split the data + create a holdout set\n",
    "X_train, X_test, y_train, y_test = train_test_split(X, y,\n",
    "                                                    test_size = 0.2,\n",
    "                                                    random_state = 42)\n",
    "X_test, X_holdout, y_test, y_holdout = train_test_split(X_test, y_test,\n",
    "                                                        test_size = 0.5,\n",
    "                                                        random_state = 42)\n",
    "print(X_train.shape, y_train.shape)\n",
    "print(X_test.shape, y_test.shape)\n",
    "print(X_holdout.shape, y_holdout.shape)"
   ]
  },
  {
   "cell_type": "code",
   "execution_count": 6,
   "metadata": {},
   "outputs": [],
   "source": [
    "# Standardize the predictors \n",
    "scaler      = StandardScaler()\n",
    "\n",
    "X_train     = scaler.fit_transform(X_train)\n",
    "X_test      = scaler.transform(X_test)\n",
    "X_holdout   = scaler.transform(X_holdout)"
   ]
  },
  {
   "cell_type": "code",
   "execution_count": 7,
   "metadata": {},
   "outputs": [],
   "source": [
    "# Turn the data into torch.Tensors, TensorDatasets, and finally DataLoaders\n",
    "## Training data\n",
    "train_data      = torch.Tensor(X_train).float()\n",
    "train_labels    = torch.Tensor(np.array(y_train)[:, None]).float() \n",
    "train_set       = TensorDataset(train_data, train_labels)\n",
    "\n",
    "# Test data\n",
    "test_data       = torch.Tensor(X_test).float()\n",
    "test_labels     = torch.Tensor(np.array(y_test)[:, None]).float()\n",
    "test_set        = TensorDataset(test_data, test_labels)\n",
    "\n",
    "# Holdout data\n",
    "holdout_data    = torch.Tensor(X_holdout).float()\n",
    "holdout_labels  = torch.Tensor(np.array(y_holdout)[:, None]).float()\n",
    "holdout_set     = TensorDataset(holdout_data, holdout_labels)"
   ]
  },
  {
   "cell_type": "code",
   "execution_count": 48,
   "metadata": {},
   "outputs": [],
   "source": [
    "BATCHSIZE = 16\n",
    "DEPTH = 3\n",
    "WIDTH = 256\n",
    "DROPOUT = 0.8\n",
    "BATCHNORMALIZE = True\n",
    "LEARNINGRATE = 0.001\n",
    "EPOCHS = 200"
   ]
  },
  {
   "cell_type": "code",
   "execution_count": 49,
   "metadata": {},
   "outputs": [],
   "source": [
    "# Create DataLoaders\n",
    "train_loader = DataLoader(train_set,\n",
    "                          batch_size = BATCHSIZE,\n",
    "                          drop_last = True,\n",
    "                          shuffle = True)\n",
    "test_loader = DataLoader(test_set,\n",
    "                         batch_size = test_set.tensors[0].shape[0],\n",
    "                         drop_last = True,\n",
    "                         shuffle = True)\n",
    "holdout_loader = DataLoader(holdout_set,\n",
    "                            batch_size = holdout_set.tensors[0].shape[0],\n",
    "                            drop_last = True,\n",
    "                            shuffle = True)"
   ]
  },
  {
   "cell_type": "code",
   "execution_count": 50,
   "metadata": {},
   "outputs": [],
   "source": [
    "# Test the model and loss function\n",
    "model_instance, loss_function, optimizer = initiate_model(depth=DEPTH,\n",
    "                                                          width=WIDTH,\n",
    "                                                          dropout=DROPOUT,\n",
    "                                                          batch_normalize=BATCHNORMALIZE)\n",
    "X, y = next(iter(train_loader))\n",
    "y_hat = model_instance(X)\n",
    "\n",
    "#loss_function(y_hat, y)\n",
    "#torch.sigmoid(y_hat, )"
   ]
  },
  {
   "cell_type": "code",
   "execution_count": 51,
   "metadata": {},
   "outputs": [
    {
     "name": "stdout",
     "output_type": "stream",
     "text": [
      "Going to train 200 epochs.\n",
      "Training epoch 0\n",
      "Training epoch 10,\n",
      "             last trainloss was 0.6111503839492798,\n",
      "             last trainaccuracy was 66.51786041259766,\n",
      "             last testaccuracy was 86.66666412353516\n",
      "Training epoch 20,\n",
      "             last trainloss was 0.47766441106796265,\n",
      "             last trainaccuracy was 77.23213958740234,\n",
      "             last testaccuracy was 90.0\n",
      "Training epoch 30,\n",
      "             last trainloss was 0.5461379289627075,\n",
      "             last trainaccuracy was 72.76786041259766,\n",
      "             last testaccuracy was 90.0\n",
      "Training epoch 40,\n",
      "             last trainloss was 0.48568037152290344,\n",
      "             last trainaccuracy was 79.01786041259766,\n",
      "             last testaccuracy was 86.66666412353516\n",
      "Training epoch 50,\n",
      "             last trainloss was 0.47990307211875916,\n",
      "             last trainaccuracy was 79.46428680419922,\n",
      "             last testaccuracy was 90.0\n",
      "Training epoch 60,\n",
      "             last trainloss was 0.4993477463722229,\n",
      "             last trainaccuracy was 74.55357360839844,\n",
      "             last testaccuracy was 90.0\n",
      "Training epoch 70,\n",
      "             last trainloss was 0.4845552146434784,\n",
      "             last trainaccuracy was 77.67857360839844,\n",
      "             last testaccuracy was 90.0\n",
      "Training epoch 80,\n",
      "             last trainloss was 0.47559964656829834,\n",
      "             last trainaccuracy was 82.14286041259766,\n",
      "             last testaccuracy was 86.66666412353516\n",
      "Training epoch 90,\n",
      "             last trainloss was 0.44248637557029724,\n",
      "             last trainaccuracy was 83.03571319580078,\n",
      "             last testaccuracy was 90.0\n",
      "Training epoch 100,\n",
      "             last trainloss was 0.4015158414840698,\n",
      "             last trainaccuracy was 82.58928680419922,\n",
      "             last testaccuracy was 86.66666412353516\n",
      "Training epoch 110,\n",
      "             last trainloss was 0.3669006824493408,\n",
      "             last trainaccuracy was 85.71428680419922,\n",
      "             last testaccuracy was 90.0\n",
      "Training epoch 120,\n",
      "             last trainloss was 0.4419328272342682,\n",
      "             last trainaccuracy was 82.58928680419922,\n",
      "             last testaccuracy was 90.0\n",
      "Training epoch 130,\n",
      "             last trainloss was 0.39486923813819885,\n",
      "             last trainaccuracy was 81.69642639160156,\n",
      "             last testaccuracy was 90.0\n",
      "Training epoch 140,\n",
      "             last trainloss was 0.45445817708969116,\n",
      "             last trainaccuracy was 82.58928680419922,\n",
      "             last testaccuracy was 90.0\n",
      "Training epoch 150,\n",
      "             last trainloss was 0.5161839723587036,\n",
      "             last trainaccuracy was 78.57142639160156,\n",
      "             last testaccuracy was 86.66666412353516\n",
      "Training epoch 160,\n",
      "             last trainloss was 0.48520371317863464,\n",
      "             last trainaccuracy was 77.67857360839844,\n",
      "             last testaccuracy was 90.0\n",
      "Training epoch 170,\n",
      "             last trainloss was 0.3762442469596863,\n",
      "             last trainaccuracy was 83.92857360839844,\n",
      "             last testaccuracy was 86.66666412353516\n",
      "Training epoch 180,\n",
      "             last trainloss was 0.423518568277359,\n",
      "             last trainaccuracy was 84.375,\n",
      "             last testaccuracy was 83.33332824707031\n",
      "Training epoch 190,\n",
      "             last trainloss was 0.38866132497787476,\n",
      "             last trainaccuracy was 84.82142639160156,\n",
      "             last testaccuracy was 83.33332824707031\n",
      "Training finished after 200 epochs,             last mean loss was 0.4204089045524597\n"
     ]
    }
   ],
   "source": [
    "train_accuracy, test_accuracy, losses, model_instance = train_model(\n",
    "    train_loader=train_loader,\n",
    "    test_loader=test_loader,\n",
    "    epochs=EPOCHS,\n",
    "    depth=DEPTH,\n",
    "    width=WIDTH,\n",
    "    dropout=DROPOUT,\n",
    "    batch_normalize=BATCHNORMALIZE,\n",
    "    learning_rate=LEARNINGRATE)\n"
   ]
  },
  {
   "cell_type": "code",
   "execution_count": 52,
   "metadata": {},
   "outputs": [
    {
     "data": {
      "image/svg+xml": "<?xml version=\"1.0\" encoding=\"utf-8\" standalone=\"no\"?>\n<!DOCTYPE svg PUBLIC \"-//W3C//DTD SVG 1.1//EN\"\n  \"http://www.w3.org/Graphics/SVG/1.1/DTD/svg11.dtd\">\n<svg xmlns:xlink=\"http://www.w3.org/1999/xlink\" width=\"943.78125pt\" height=\"337.074375pt\" viewBox=\"0 0 943.78125 337.074375\" xmlns=\"http://www.w3.org/2000/svg\" version=\"1.1\">\n <metadata>\n  <rdf:RDF xmlns:dc=\"http://purl.org/dc/elements/1.1/\" xmlns:cc=\"http://creativecommons.org/ns#\" xmlns:rdf=\"http://www.w3.org/1999/02/22-rdf-syntax-ns#\">\n   <cc:Work>\n    <dc:type rdf:resource=\"http://purl.org/dc/dcmitype/StillImage\"/>\n    <dc:date>2022-10-21T14:21:10.454181</dc:date>\n    <dc:format>image/svg+xml</dc:format>\n    <dc:creator>\n     <cc:Agent>\n      <dc:title>Matplotlib v3.5.2, https://matplotlib.org/</dc:title>\n     </cc:Agent>\n    </dc:creator>\n   </cc:Work>\n  </rdf:RDF>\n </metadata>\n <defs>\n  <style type=\"text/css\">*{stroke-linejoin: round; stroke-linecap: butt}</style>\n </defs>\n <g id=\"figure_1\">\n  <g id=\"patch_1\">\n   <path d=\"M 0 337.074375 \nL 943.78125 337.074375 \nL 943.78125 0 \nL 0 0 \nz\n\" style=\"fill: #ffffff\"/>\n  </g>\n  <g id=\"axes_1\">\n   <g id=\"patch_2\">\n    <path d=\"M 43.78125 299.518125 \nL 449.599432 299.518125 \nL 449.599432 22.318125 \nL 43.78125 22.318125 \nz\n\" style=\"fill: #ffffff\"/>\n   </g>\n   <g id=\"matplotlib.axis_1\">\n    <g id=\"xtick_1\">\n     <g id=\"line2d_1\">\n      <defs>\n       <path id=\"me14dc14d67\" d=\"M 0 0 \nL 0 3.5 \n\" style=\"stroke: #000000; stroke-width: 0.8\"/>\n      </defs>\n      <g>\n       <use xlink:href=\"#me14dc14d67\" x=\"62.227531\" y=\"299.518125\" style=\"stroke: #000000; stroke-width: 0.8\"/>\n      </g>\n     </g>\n     <g id=\"text_1\">\n      <!-- 0 -->\n      <g transform=\"translate(59.046281 314.116563)scale(0.1 -0.1)\">\n       <defs>\n        <path id=\"DejaVuSans-30\" d=\"M 2034 4250 \nQ 1547 4250 1301 3770 \nQ 1056 3291 1056 2328 \nQ 1056 1369 1301 889 \nQ 1547 409 2034 409 \nQ 2525 409 2770 889 \nQ 3016 1369 3016 2328 \nQ 3016 3291 2770 3770 \nQ 2525 4250 2034 4250 \nz\nM 2034 4750 \nQ 2819 4750 3233 4129 \nQ 3647 3509 3647 2328 \nQ 3647 1150 3233 529 \nQ 2819 -91 2034 -91 \nQ 1250 -91 836 529 \nQ 422 1150 422 2328 \nQ 422 3509 836 4129 \nQ 1250 4750 2034 4750 \nz\n\" transform=\"scale(0.015625)\"/>\n       </defs>\n       <use xlink:href=\"#DejaVuSans-30\"/>\n      </g>\n     </g>\n    </g>\n    <g id=\"xtick_2\">\n     <g id=\"line2d_2\">\n      <g>\n       <use xlink:href=\"#me14dc14d67\" x=\"108.574971\" y=\"299.518125\" style=\"stroke: #000000; stroke-width: 0.8\"/>\n      </g>\n     </g>\n     <g id=\"text_2\">\n      <!-- 25 -->\n      <g transform=\"translate(102.212471 314.116563)scale(0.1 -0.1)\">\n       <defs>\n        <path id=\"DejaVuSans-32\" d=\"M 1228 531 \nL 3431 531 \nL 3431 0 \nL 469 0 \nL 469 531 \nQ 828 903 1448 1529 \nQ 2069 2156 2228 2338 \nQ 2531 2678 2651 2914 \nQ 2772 3150 2772 3378 \nQ 2772 3750 2511 3984 \nQ 2250 4219 1831 4219 \nQ 1534 4219 1204 4116 \nQ 875 4013 500 3803 \nL 500 4441 \nQ 881 4594 1212 4672 \nQ 1544 4750 1819 4750 \nQ 2544 4750 2975 4387 \nQ 3406 4025 3406 3419 \nQ 3406 3131 3298 2873 \nQ 3191 2616 2906 2266 \nQ 2828 2175 2409 1742 \nQ 1991 1309 1228 531 \nz\n\" transform=\"scale(0.015625)\"/>\n        <path id=\"DejaVuSans-35\" d=\"M 691 4666 \nL 3169 4666 \nL 3169 4134 \nL 1269 4134 \nL 1269 2991 \nQ 1406 3038 1543 3061 \nQ 1681 3084 1819 3084 \nQ 2600 3084 3056 2656 \nQ 3513 2228 3513 1497 \nQ 3513 744 3044 326 \nQ 2575 -91 1722 -91 \nQ 1428 -91 1123 -41 \nQ 819 9 494 109 \nL 494 744 \nQ 775 591 1075 516 \nQ 1375 441 1709 441 \nQ 2250 441 2565 725 \nQ 2881 1009 2881 1497 \nQ 2881 1984 2565 2268 \nQ 2250 2553 1709 2553 \nQ 1456 2553 1204 2497 \nQ 953 2441 691 2322 \nL 691 4666 \nz\n\" transform=\"scale(0.015625)\"/>\n       </defs>\n       <use xlink:href=\"#DejaVuSans-32\"/>\n       <use xlink:href=\"#DejaVuSans-35\" x=\"63.623047\"/>\n      </g>\n     </g>\n    </g>\n    <g id=\"xtick_3\">\n     <g id=\"line2d_3\">\n      <g>\n       <use xlink:href=\"#me14dc14d67\" x=\"154.92241\" y=\"299.518125\" style=\"stroke: #000000; stroke-width: 0.8\"/>\n      </g>\n     </g>\n     <g id=\"text_3\">\n      <!-- 50 -->\n      <g transform=\"translate(148.55991 314.116563)scale(0.1 -0.1)\">\n       <use xlink:href=\"#DejaVuSans-35\"/>\n       <use xlink:href=\"#DejaVuSans-30\" x=\"63.623047\"/>\n      </g>\n     </g>\n    </g>\n    <g id=\"xtick_4\">\n     <g id=\"line2d_4\">\n      <g>\n       <use xlink:href=\"#me14dc14d67\" x=\"201.26985\" y=\"299.518125\" style=\"stroke: #000000; stroke-width: 0.8\"/>\n      </g>\n     </g>\n     <g id=\"text_4\">\n      <!-- 75 -->\n      <g transform=\"translate(194.90735 314.116563)scale(0.1 -0.1)\">\n       <defs>\n        <path id=\"DejaVuSans-37\" d=\"M 525 4666 \nL 3525 4666 \nL 3525 4397 \nL 1831 0 \nL 1172 0 \nL 2766 4134 \nL 525 4134 \nL 525 4666 \nz\n\" transform=\"scale(0.015625)\"/>\n       </defs>\n       <use xlink:href=\"#DejaVuSans-37\"/>\n       <use xlink:href=\"#DejaVuSans-35\" x=\"63.623047\"/>\n      </g>\n     </g>\n    </g>\n    <g id=\"xtick_5\">\n     <g id=\"line2d_5\">\n      <g>\n       <use xlink:href=\"#me14dc14d67\" x=\"247.61729\" y=\"299.518125\" style=\"stroke: #000000; stroke-width: 0.8\"/>\n      </g>\n     </g>\n     <g id=\"text_5\">\n      <!-- 100 -->\n      <g transform=\"translate(238.07354 314.116563)scale(0.1 -0.1)\">\n       <defs>\n        <path id=\"DejaVuSans-31\" d=\"M 794 531 \nL 1825 531 \nL 1825 4091 \nL 703 3866 \nL 703 4441 \nL 1819 4666 \nL 2450 4666 \nL 2450 531 \nL 3481 531 \nL 3481 0 \nL 794 0 \nL 794 531 \nz\n\" transform=\"scale(0.015625)\"/>\n       </defs>\n       <use xlink:href=\"#DejaVuSans-31\"/>\n       <use xlink:href=\"#DejaVuSans-30\" x=\"63.623047\"/>\n       <use xlink:href=\"#DejaVuSans-30\" x=\"127.246094\"/>\n      </g>\n     </g>\n    </g>\n    <g id=\"xtick_6\">\n     <g id=\"line2d_6\">\n      <g>\n       <use xlink:href=\"#me14dc14d67\" x=\"293.964729\" y=\"299.518125\" style=\"stroke: #000000; stroke-width: 0.8\"/>\n      </g>\n     </g>\n     <g id=\"text_6\">\n      <!-- 125 -->\n      <g transform=\"translate(284.420979 314.116563)scale(0.1 -0.1)\">\n       <use xlink:href=\"#DejaVuSans-31\"/>\n       <use xlink:href=\"#DejaVuSans-32\" x=\"63.623047\"/>\n       <use xlink:href=\"#DejaVuSans-35\" x=\"127.246094\"/>\n      </g>\n     </g>\n    </g>\n    <g id=\"xtick_7\">\n     <g id=\"line2d_7\">\n      <g>\n       <use xlink:href=\"#me14dc14d67\" x=\"340.312169\" y=\"299.518125\" style=\"stroke: #000000; stroke-width: 0.8\"/>\n      </g>\n     </g>\n     <g id=\"text_7\">\n      <!-- 150 -->\n      <g transform=\"translate(330.768419 314.116563)scale(0.1 -0.1)\">\n       <use xlink:href=\"#DejaVuSans-31\"/>\n       <use xlink:href=\"#DejaVuSans-35\" x=\"63.623047\"/>\n       <use xlink:href=\"#DejaVuSans-30\" x=\"127.246094\"/>\n      </g>\n     </g>\n    </g>\n    <g id=\"xtick_8\">\n     <g id=\"line2d_8\">\n      <g>\n       <use xlink:href=\"#me14dc14d67\" x=\"386.659609\" y=\"299.518125\" style=\"stroke: #000000; stroke-width: 0.8\"/>\n      </g>\n     </g>\n     <g id=\"text_8\">\n      <!-- 175 -->\n      <g transform=\"translate(377.115859 314.116563)scale(0.1 -0.1)\">\n       <use xlink:href=\"#DejaVuSans-31\"/>\n       <use xlink:href=\"#DejaVuSans-37\" x=\"63.623047\"/>\n       <use xlink:href=\"#DejaVuSans-35\" x=\"127.246094\"/>\n      </g>\n     </g>\n    </g>\n    <g id=\"xtick_9\">\n     <g id=\"line2d_9\">\n      <g>\n       <use xlink:href=\"#me14dc14d67\" x=\"433.007048\" y=\"299.518125\" style=\"stroke: #000000; stroke-width: 0.8\"/>\n      </g>\n     </g>\n     <g id=\"text_9\">\n      <!-- 200 -->\n      <g transform=\"translate(423.463298 314.116563)scale(0.1 -0.1)\">\n       <use xlink:href=\"#DejaVuSans-32\"/>\n       <use xlink:href=\"#DejaVuSans-30\" x=\"63.623047\"/>\n       <use xlink:href=\"#DejaVuSans-30\" x=\"127.246094\"/>\n      </g>\n     </g>\n    </g>\n    <g id=\"text_10\">\n     <!-- Epochs -->\n     <g transform=\"translate(228.774716 327.794688)scale(0.1 -0.1)\">\n      <defs>\n       <path id=\"DejaVuSans-45\" d=\"M 628 4666 \nL 3578 4666 \nL 3578 4134 \nL 1259 4134 \nL 1259 2753 \nL 3481 2753 \nL 3481 2222 \nL 1259 2222 \nL 1259 531 \nL 3634 531 \nL 3634 0 \nL 628 0 \nL 628 4666 \nz\n\" transform=\"scale(0.015625)\"/>\n       <path id=\"DejaVuSans-70\" d=\"M 1159 525 \nL 1159 -1331 \nL 581 -1331 \nL 581 3500 \nL 1159 3500 \nL 1159 2969 \nQ 1341 3281 1617 3432 \nQ 1894 3584 2278 3584 \nQ 2916 3584 3314 3078 \nQ 3713 2572 3713 1747 \nQ 3713 922 3314 415 \nQ 2916 -91 2278 -91 \nQ 1894 -91 1617 61 \nQ 1341 213 1159 525 \nz\nM 3116 1747 \nQ 3116 2381 2855 2742 \nQ 2594 3103 2138 3103 \nQ 1681 3103 1420 2742 \nQ 1159 2381 1159 1747 \nQ 1159 1113 1420 752 \nQ 1681 391 2138 391 \nQ 2594 391 2855 752 \nQ 3116 1113 3116 1747 \nz\n\" transform=\"scale(0.015625)\"/>\n       <path id=\"DejaVuSans-6f\" d=\"M 1959 3097 \nQ 1497 3097 1228 2736 \nQ 959 2375 959 1747 \nQ 959 1119 1226 758 \nQ 1494 397 1959 397 \nQ 2419 397 2687 759 \nQ 2956 1122 2956 1747 \nQ 2956 2369 2687 2733 \nQ 2419 3097 1959 3097 \nz\nM 1959 3584 \nQ 2709 3584 3137 3096 \nQ 3566 2609 3566 1747 \nQ 3566 888 3137 398 \nQ 2709 -91 1959 -91 \nQ 1206 -91 779 398 \nQ 353 888 353 1747 \nQ 353 2609 779 3096 \nQ 1206 3584 1959 3584 \nz\n\" transform=\"scale(0.015625)\"/>\n       <path id=\"DejaVuSans-63\" d=\"M 3122 3366 \nL 3122 2828 \nQ 2878 2963 2633 3030 \nQ 2388 3097 2138 3097 \nQ 1578 3097 1268 2742 \nQ 959 2388 959 1747 \nQ 959 1106 1268 751 \nQ 1578 397 2138 397 \nQ 2388 397 2633 464 \nQ 2878 531 3122 666 \nL 3122 134 \nQ 2881 22 2623 -34 \nQ 2366 -91 2075 -91 \nQ 1284 -91 818 406 \nQ 353 903 353 1747 \nQ 353 2603 823 3093 \nQ 1294 3584 2113 3584 \nQ 2378 3584 2631 3529 \nQ 2884 3475 3122 3366 \nz\n\" transform=\"scale(0.015625)\"/>\n       <path id=\"DejaVuSans-68\" d=\"M 3513 2113 \nL 3513 0 \nL 2938 0 \nL 2938 2094 \nQ 2938 2591 2744 2837 \nQ 2550 3084 2163 3084 \nQ 1697 3084 1428 2787 \nQ 1159 2491 1159 1978 \nL 1159 0 \nL 581 0 \nL 581 4863 \nL 1159 4863 \nL 1159 2956 \nQ 1366 3272 1645 3428 \nQ 1925 3584 2291 3584 \nQ 2894 3584 3203 3211 \nQ 3513 2838 3513 2113 \nz\n\" transform=\"scale(0.015625)\"/>\n       <path id=\"DejaVuSans-73\" d=\"M 2834 3397 \nL 2834 2853 \nQ 2591 2978 2328 3040 \nQ 2066 3103 1784 3103 \nQ 1356 3103 1142 2972 \nQ 928 2841 928 2578 \nQ 928 2378 1081 2264 \nQ 1234 2150 1697 2047 \nL 1894 2003 \nQ 2506 1872 2764 1633 \nQ 3022 1394 3022 966 \nQ 3022 478 2636 193 \nQ 2250 -91 1575 -91 \nQ 1294 -91 989 -36 \nQ 684 19 347 128 \nL 347 722 \nQ 666 556 975 473 \nQ 1284 391 1588 391 \nQ 1994 391 2212 530 \nQ 2431 669 2431 922 \nQ 2431 1156 2273 1281 \nQ 2116 1406 1581 1522 \nL 1381 1569 \nQ 847 1681 609 1914 \nQ 372 2147 372 2553 \nQ 372 3047 722 3315 \nQ 1072 3584 1716 3584 \nQ 2034 3584 2315 3537 \nQ 2597 3491 2834 3397 \nz\n\" transform=\"scale(0.015625)\"/>\n      </defs>\n      <use xlink:href=\"#DejaVuSans-45\"/>\n      <use xlink:href=\"#DejaVuSans-70\" x=\"63.183594\"/>\n      <use xlink:href=\"#DejaVuSans-6f\" x=\"126.660156\"/>\n      <use xlink:href=\"#DejaVuSans-63\" x=\"187.841797\"/>\n      <use xlink:href=\"#DejaVuSans-68\" x=\"242.822266\"/>\n      <use xlink:href=\"#DejaVuSans-73\" x=\"306.201172\"/>\n     </g>\n    </g>\n   </g>\n   <g id=\"matplotlib.axis_2\">\n    <g id=\"ytick_1\">\n     <g id=\"line2d_10\">\n      <defs>\n       <path id=\"mc2d7efbb7a\" d=\"M 0 0 \nL -3.5 0 \n\" style=\"stroke: #000000; stroke-width: 0.8\"/>\n      </defs>\n      <g>\n       <use xlink:href=\"#mc2d7efbb7a\" x=\"43.78125\" y=\"299.518125\" style=\"stroke: #000000; stroke-width: 0.8\"/>\n      </g>\n     </g>\n     <g id=\"text_11\">\n      <!-- 0.0 -->\n      <g transform=\"translate(20.878125 303.317344)scale(0.1 -0.1)\">\n       <defs>\n        <path id=\"DejaVuSans-2e\" d=\"M 684 794 \nL 1344 794 \nL 1344 0 \nL 684 0 \nL 684 794 \nz\n\" transform=\"scale(0.015625)\"/>\n       </defs>\n       <use xlink:href=\"#DejaVuSans-30\"/>\n       <use xlink:href=\"#DejaVuSans-2e\" x=\"63.623047\"/>\n       <use xlink:href=\"#DejaVuSans-30\" x=\"95.410156\"/>\n      </g>\n     </g>\n    </g>\n    <g id=\"ytick_2\">\n     <g id=\"line2d_11\">\n      <g>\n       <use xlink:href=\"#mc2d7efbb7a\" x=\"43.78125\" y=\"253.318125\" style=\"stroke: #000000; stroke-width: 0.8\"/>\n      </g>\n     </g>\n     <g id=\"text_12\">\n      <!-- 0.5 -->\n      <g transform=\"translate(20.878125 257.117344)scale(0.1 -0.1)\">\n       <use xlink:href=\"#DejaVuSans-30\"/>\n       <use xlink:href=\"#DejaVuSans-2e\" x=\"63.623047\"/>\n       <use xlink:href=\"#DejaVuSans-35\" x=\"95.410156\"/>\n      </g>\n     </g>\n    </g>\n    <g id=\"ytick_3\">\n     <g id=\"line2d_12\">\n      <g>\n       <use xlink:href=\"#mc2d7efbb7a\" x=\"43.78125\" y=\"207.118125\" style=\"stroke: #000000; stroke-width: 0.8\"/>\n      </g>\n     </g>\n     <g id=\"text_13\">\n      <!-- 1.0 -->\n      <g transform=\"translate(20.878125 210.917344)scale(0.1 -0.1)\">\n       <use xlink:href=\"#DejaVuSans-31\"/>\n       <use xlink:href=\"#DejaVuSans-2e\" x=\"63.623047\"/>\n       <use xlink:href=\"#DejaVuSans-30\" x=\"95.410156\"/>\n      </g>\n     </g>\n    </g>\n    <g id=\"ytick_4\">\n     <g id=\"line2d_13\">\n      <g>\n       <use xlink:href=\"#mc2d7efbb7a\" x=\"43.78125\" y=\"160.918125\" style=\"stroke: #000000; stroke-width: 0.8\"/>\n      </g>\n     </g>\n     <g id=\"text_14\">\n      <!-- 1.5 -->\n      <g transform=\"translate(20.878125 164.717344)scale(0.1 -0.1)\">\n       <use xlink:href=\"#DejaVuSans-31\"/>\n       <use xlink:href=\"#DejaVuSans-2e\" x=\"63.623047\"/>\n       <use xlink:href=\"#DejaVuSans-35\" x=\"95.410156\"/>\n      </g>\n     </g>\n    </g>\n    <g id=\"ytick_5\">\n     <g id=\"line2d_14\">\n      <g>\n       <use xlink:href=\"#mc2d7efbb7a\" x=\"43.78125\" y=\"114.718125\" style=\"stroke: #000000; stroke-width: 0.8\"/>\n      </g>\n     </g>\n     <g id=\"text_15\">\n      <!-- 2.0 -->\n      <g transform=\"translate(20.878125 118.517344)scale(0.1 -0.1)\">\n       <use xlink:href=\"#DejaVuSans-32\"/>\n       <use xlink:href=\"#DejaVuSans-2e\" x=\"63.623047\"/>\n       <use xlink:href=\"#DejaVuSans-30\" x=\"95.410156\"/>\n      </g>\n     </g>\n    </g>\n    <g id=\"ytick_6\">\n     <g id=\"line2d_15\">\n      <g>\n       <use xlink:href=\"#mc2d7efbb7a\" x=\"43.78125\" y=\"68.518125\" style=\"stroke: #000000; stroke-width: 0.8\"/>\n      </g>\n     </g>\n     <g id=\"text_16\">\n      <!-- 2.5 -->\n      <g transform=\"translate(20.878125 72.317344)scale(0.1 -0.1)\">\n       <use xlink:href=\"#DejaVuSans-32\"/>\n       <use xlink:href=\"#DejaVuSans-2e\" x=\"63.623047\"/>\n       <use xlink:href=\"#DejaVuSans-35\" x=\"95.410156\"/>\n      </g>\n     </g>\n    </g>\n    <g id=\"ytick_7\">\n     <g id=\"line2d_16\">\n      <g>\n       <use xlink:href=\"#mc2d7efbb7a\" x=\"43.78125\" y=\"22.318125\" style=\"stroke: #000000; stroke-width: 0.8\"/>\n      </g>\n     </g>\n     <g id=\"text_17\">\n      <!-- 3.0 -->\n      <g transform=\"translate(20.878125 26.117344)scale(0.1 -0.1)\">\n       <defs>\n        <path id=\"DejaVuSans-33\" d=\"M 2597 2516 \nQ 3050 2419 3304 2112 \nQ 3559 1806 3559 1356 \nQ 3559 666 3084 287 \nQ 2609 -91 1734 -91 \nQ 1441 -91 1130 -33 \nQ 819 25 488 141 \nL 488 750 \nQ 750 597 1062 519 \nQ 1375 441 1716 441 \nQ 2309 441 2620 675 \nQ 2931 909 2931 1356 \nQ 2931 1769 2642 2001 \nQ 2353 2234 1838 2234 \nL 1294 2234 \nL 1294 2753 \nL 1863 2753 \nQ 2328 2753 2575 2939 \nQ 2822 3125 2822 3475 \nQ 2822 3834 2567 4026 \nQ 2313 4219 1838 4219 \nQ 1578 4219 1281 4162 \nQ 984 4106 628 3988 \nL 628 4550 \nQ 988 4650 1302 4700 \nQ 1616 4750 1894 4750 \nQ 2613 4750 3031 4423 \nQ 3450 4097 3450 3541 \nQ 3450 3153 3228 2886 \nQ 3006 2619 2597 2516 \nz\n\" transform=\"scale(0.015625)\"/>\n       </defs>\n       <use xlink:href=\"#DejaVuSans-33\"/>\n       <use xlink:href=\"#DejaVuSans-2e\" x=\"63.623047\"/>\n       <use xlink:href=\"#DejaVuSans-30\" x=\"95.410156\"/>\n      </g>\n     </g>\n    </g>\n    <g id=\"text_18\">\n     <!-- Loss -->\n     <g transform=\"translate(14.798438 171.885313)rotate(-90)scale(0.1 -0.1)\">\n      <defs>\n       <path id=\"DejaVuSans-4c\" d=\"M 628 4666 \nL 1259 4666 \nL 1259 531 \nL 3531 531 \nL 3531 0 \nL 628 0 \nL 628 4666 \nz\n\" transform=\"scale(0.015625)\"/>\n      </defs>\n      <use xlink:href=\"#DejaVuSans-4c\"/>\n      <use xlink:href=\"#DejaVuSans-6f\" x=\"53.962891\"/>\n      <use xlink:href=\"#DejaVuSans-73\" x=\"115.144531\"/>\n      <use xlink:href=\"#DejaVuSans-73\" x=\"167.244141\"/>\n     </g>\n    </g>\n   </g>\n   <g id=\"line2d_17\">\n    <path d=\"M 62.227531 232.867058 \nL 64.081429 237.054569 \nL 65.935326 235.747784 \nL 67.789224 235.90869 \nL 69.643121 238.908003 \nL 71.497019 238.169021 \nL 73.350917 238.869759 \nL 75.204814 242.006742 \nL 77.058712 243.152119 \nL 78.912609 243.04783 \nL 80.766507 242.695153 \nL 82.620404 245.559979 \nL 84.474302 246.629783 \nL 86.3282 246.743639 \nL 88.182097 249.178871 \nL 90.035995 246.64419 \nL 91.889892 253.837744 \nL 93.74379 252.061712 \nL 95.597688 248.574437 \nL 97.451585 255.381933 \nL 99.305483 251.299616 \nL 101.15938 249.711873 \nL 103.013278 253.02825 \nL 104.867175 245.782508 \nL 106.721073 252.70152 \nL 108.574971 255.522996 \nL 110.428868 256.580995 \nL 112.282766 253.761383 \nL 114.136663 255.406634 \nL 115.990561 249.05498 \nL 117.844459 256.409049 \nL 119.698356 254.073317 \nL 121.552254 256.835699 \nL 123.406151 258.673954 \nL 125.260049 244.83806 \nL 127.113947 250.149001 \nL 128.967844 253.914386 \nL 130.821742 250.564368 \nL 132.675639 254.503222 \nL 134.529537 254.641259 \nL 136.383434 254.656093 \nL 138.237332 256.349453 \nL 140.09123 254.356195 \nL 141.945127 255.470796 \nL 143.799025 252.589222 \nL 145.652922 253.361359 \nL 147.50682 253.177618 \nL 149.360718 255.439767 \nL 151.214615 258.218487 \nL 153.068513 255.175081 \nL 154.92241 255.623783 \nL 156.776308 257.988192 \nL 158.630206 254.57035 \nL 162.338001 250.375941 \nL 164.191898 252.85107 \nL 166.045796 254.899077 \nL 167.899693 256.00159 \nL 169.753591 257.540578 \nL 171.607489 253.378393 \nL 173.461386 258.445485 \nL 175.315284 254.985095 \nL 177.169181 255.504353 \nL 179.023079 258.05839 \nL 180.876977 255.19645 \nL 182.730874 250.525695 \nL 184.584772 256.469061 \nL 186.438669 259.097448 \nL 188.292567 254.449962 \nL 192.000362 255.019503 \nL 193.85426 256.817213 \nL 195.708157 257.344173 \nL 197.562055 260.6466 \nL 199.415952 254.213414 \nL 201.26985 255.857641 \nL 203.123748 259.453985 \nL 204.977645 257.484393 \nL 206.831543 258.554227 \nL 208.68544 255.572718 \nL 210.539338 257.22017 \nL 212.393236 253.50989 \nL 214.247133 254.570259 \nL 216.101031 257.63187 \nL 217.954928 256.645195 \nL 219.808826 258.265889 \nL 221.662723 252.297382 \nL 223.516621 258.216072 \nL 225.370519 260.166399 \nL 227.224416 258.632384 \nL 229.078314 253.908242 \nL 230.932211 256.502519 \nL 232.786109 255.207363 \nL 234.640007 259.625854 \nL 236.493904 256.749846 \nL 238.347802 259.028035 \nL 240.201699 255.172253 \nL 242.055597 258.244691 \nL 243.909495 258.502942 \nL 245.763392 262.418061 \nL 247.61729 257.952313 \nL 249.471187 257.765863 \nL 251.325085 261.407253 \nL 253.178982 256.389015 \nL 255.03288 265.250688 \nL 256.886778 257.167617 \nL 258.740675 254.414706 \nL 260.594573 261.050659 \nL 262.44847 261.741937 \nL 264.302368 265.616502 \nL 266.156266 262.840457 \nL 268.010163 253.084702 \nL 269.864061 257.141248 \nL 271.717958 250.513749 \nL 273.571856 260.327098 \nL 275.425754 260.889551 \nL 277.279651 252.313783 \nL 279.133549 255.719649 \nL 280.987446 261.542319 \nL 282.841344 258.683532 \nL 284.695241 263.239988 \nL 286.549139 260.224224 \nL 288.403037 255.249917 \nL 292.110832 257.377496 \nL 293.964729 253.706806 \nL 295.818627 257.87557 \nL 297.672525 259.188355 \nL 299.526422 262.380109 \nL 301.38032 263.032207 \nL 303.234217 253.466909 \nL 305.088115 259.202875 \nL 306.942012 252.165285 \nL 308.79591 258.833404 \nL 310.649808 256.440483 \nL 312.503705 256.383395 \nL 314.357603 259.004055 \nL 316.2115 259.436896 \nL 318.065398 264.25445 \nL 319.919296 257.526189 \nL 321.773193 261.797449 \nL 323.627091 258.4419 \nL 325.480988 263.138813 \nL 327.334886 261.188808 \nL 329.188784 256.644058 \nL 331.042681 264.040085 \nL 332.896579 254.969749 \nL 334.750476 256.190548 \nL 336.604374 260.274309 \nL 338.458271 251.822726 \nL 340.312169 260.211899 \nL 342.166067 257.766516 \nL 344.019964 256.535297 \nL 345.873862 254.964219 \nL 347.727759 266.274292 \nL 349.581657 260.012492 \nL 353.289452 260.211496 \nL 355.14335 261.458591 \nL 356.997247 254.685302 \nL 358.851145 260.981622 \nL 360.705043 258.094731 \nL 362.55894 257.789802 \nL 366.266735 260.761646 \nL 368.120633 260.836454 \nL 369.97453 260.512425 \nL 371.828428 252.769581 \nL 373.682326 262.893367 \nL 375.536223 264.753157 \nL 377.390121 258.547657 \nL 379.244018 262.408839 \nL 381.097916 258.737951 \nL 382.951814 257.666396 \nL 384.805711 262.194128 \nL 386.659609 261.365523 \nL 388.513506 259.729444 \nL 390.367404 258.345673 \nL 392.221301 258.116976 \nL 394.075199 260.385009 \nL 395.929097 259.343002 \nL 397.782994 261.664832 \nL 399.636892 259.285495 \nL 401.490789 259.298333 \nL 403.344687 263.198918 \nL 405.198585 262.629413 \nL 407.052482 259.423066 \nL 408.90638 255.764793 \nL 410.760277 266.526834 \nL 412.614175 263.605819 \nL 414.468073 256.950615 \nL 416.32197 258.649047 \nL 418.175868 262.721864 \nL 420.029765 262.470633 \nL 421.883663 253.575748 \nL 423.73756 255.527667 \nL 425.591458 265.262498 \nL 427.445356 261.565376 \nL 429.299253 263.348421 \nL 431.153151 260.672342 \nL 431.153151 260.672342 \n\" clip-path=\"url(#p166e6346c7)\" style=\"fill: none; stroke: #1f77b4; stroke-width: 1.5; stroke-linecap: square\"/>\n   </g>\n   <g id=\"patch_3\">\n    <path d=\"M 43.78125 299.518125 \nL 43.78125 22.318125 \n\" style=\"fill: none; stroke: #000000; stroke-width: 0.8; stroke-linejoin: miter; stroke-linecap: square\"/>\n   </g>\n   <g id=\"patch_4\">\n    <path d=\"M 449.599432 299.518125 \nL 449.599432 22.318125 \n\" style=\"fill: none; stroke: #000000; stroke-width: 0.8; stroke-linejoin: miter; stroke-linecap: square\"/>\n   </g>\n   <g id=\"patch_5\">\n    <path d=\"M 43.78125 299.518125 \nL 449.599432 299.518125 \n\" style=\"fill: none; stroke: #000000; stroke-width: 0.8; stroke-linejoin: miter; stroke-linecap: square\"/>\n   </g>\n   <g id=\"patch_6\">\n    <path d=\"M 43.78125 22.318125 \nL 449.599432 22.318125 \n\" style=\"fill: none; stroke: #000000; stroke-width: 0.8; stroke-linejoin: miter; stroke-linecap: square\"/>\n   </g>\n   <g id=\"text_19\">\n    <!-- Model loss -->\n    <g transform=\"translate(215.178153 16.318125)scale(0.12 -0.12)\">\n     <defs>\n      <path id=\"DejaVuSans-4d\" d=\"M 628 4666 \nL 1569 4666 \nL 2759 1491 \nL 3956 4666 \nL 4897 4666 \nL 4897 0 \nL 4281 0 \nL 4281 4097 \nL 3078 897 \nL 2444 897 \nL 1241 4097 \nL 1241 0 \nL 628 0 \nL 628 4666 \nz\n\" transform=\"scale(0.015625)\"/>\n      <path id=\"DejaVuSans-64\" d=\"M 2906 2969 \nL 2906 4863 \nL 3481 4863 \nL 3481 0 \nL 2906 0 \nL 2906 525 \nQ 2725 213 2448 61 \nQ 2172 -91 1784 -91 \nQ 1150 -91 751 415 \nQ 353 922 353 1747 \nQ 353 2572 751 3078 \nQ 1150 3584 1784 3584 \nQ 2172 3584 2448 3432 \nQ 2725 3281 2906 2969 \nz\nM 947 1747 \nQ 947 1113 1208 752 \nQ 1469 391 1925 391 \nQ 2381 391 2643 752 \nQ 2906 1113 2906 1747 \nQ 2906 2381 2643 2742 \nQ 2381 3103 1925 3103 \nQ 1469 3103 1208 2742 \nQ 947 2381 947 1747 \nz\n\" transform=\"scale(0.015625)\"/>\n      <path id=\"DejaVuSans-65\" d=\"M 3597 1894 \nL 3597 1613 \nL 953 1613 \nQ 991 1019 1311 708 \nQ 1631 397 2203 397 \nQ 2534 397 2845 478 \nQ 3156 559 3463 722 \nL 3463 178 \nQ 3153 47 2828 -22 \nQ 2503 -91 2169 -91 \nQ 1331 -91 842 396 \nQ 353 884 353 1716 \nQ 353 2575 817 3079 \nQ 1281 3584 2069 3584 \nQ 2775 3584 3186 3129 \nQ 3597 2675 3597 1894 \nz\nM 3022 2063 \nQ 3016 2534 2758 2815 \nQ 2500 3097 2075 3097 \nQ 1594 3097 1305 2825 \nQ 1016 2553 972 2059 \nL 3022 2063 \nz\n\" transform=\"scale(0.015625)\"/>\n      <path id=\"DejaVuSans-6c\" d=\"M 603 4863 \nL 1178 4863 \nL 1178 0 \nL 603 0 \nL 603 4863 \nz\n\" transform=\"scale(0.015625)\"/>\n      <path id=\"DejaVuSans-20\" transform=\"scale(0.015625)\"/>\n     </defs>\n     <use xlink:href=\"#DejaVuSans-4d\"/>\n     <use xlink:href=\"#DejaVuSans-6f\" x=\"86.279297\"/>\n     <use xlink:href=\"#DejaVuSans-64\" x=\"147.460938\"/>\n     <use xlink:href=\"#DejaVuSans-65\" x=\"210.9375\"/>\n     <use xlink:href=\"#DejaVuSans-6c\" x=\"272.460938\"/>\n     <use xlink:href=\"#DejaVuSans-20\" x=\"300.244141\"/>\n     <use xlink:href=\"#DejaVuSans-6c\" x=\"332.03125\"/>\n     <use xlink:href=\"#DejaVuSans-6f\" x=\"359.814453\"/>\n     <use xlink:href=\"#DejaVuSans-73\" x=\"420.996094\"/>\n     <use xlink:href=\"#DejaVuSans-73\" x=\"473.095703\"/>\n    </g>\n   </g>\n  </g>\n  <g id=\"axes_2\">\n   <g id=\"patch_7\">\n    <path d=\"M 530.763068 299.518125 \nL 936.58125 299.518125 \nL 936.58125 22.318125 \nL 530.763068 22.318125 \nz\n\" style=\"fill: #ffffff\"/>\n   </g>\n   <g id=\"matplotlib.axis_3\">\n    <g id=\"xtick_10\">\n     <g id=\"line2d_18\">\n      <g>\n       <use xlink:href=\"#me14dc14d67\" x=\"549.209349\" y=\"299.518125\" style=\"stroke: #000000; stroke-width: 0.8\"/>\n      </g>\n     </g>\n     <g id=\"text_20\">\n      <!-- 0 -->\n      <g transform=\"translate(546.028099 314.116563)scale(0.1 -0.1)\">\n       <use xlink:href=\"#DejaVuSans-30\"/>\n      </g>\n     </g>\n    </g>\n    <g id=\"xtick_11\">\n     <g id=\"line2d_19\">\n      <g>\n       <use xlink:href=\"#me14dc14d67\" x=\"595.556789\" y=\"299.518125\" style=\"stroke: #000000; stroke-width: 0.8\"/>\n      </g>\n     </g>\n     <g id=\"text_21\">\n      <!-- 25 -->\n      <g transform=\"translate(589.194289 314.116563)scale(0.1 -0.1)\">\n       <use xlink:href=\"#DejaVuSans-32\"/>\n       <use xlink:href=\"#DejaVuSans-35\" x=\"63.623047\"/>\n      </g>\n     </g>\n    </g>\n    <g id=\"xtick_12\">\n     <g id=\"line2d_20\">\n      <g>\n       <use xlink:href=\"#me14dc14d67\" x=\"641.904229\" y=\"299.518125\" style=\"stroke: #000000; stroke-width: 0.8\"/>\n      </g>\n     </g>\n     <g id=\"text_22\">\n      <!-- 50 -->\n      <g transform=\"translate(635.541729 314.116563)scale(0.1 -0.1)\">\n       <use xlink:href=\"#DejaVuSans-35\"/>\n       <use xlink:href=\"#DejaVuSans-30\" x=\"63.623047\"/>\n      </g>\n     </g>\n    </g>\n    <g id=\"xtick_13\">\n     <g id=\"line2d_21\">\n      <g>\n       <use xlink:href=\"#me14dc14d67\" x=\"688.251668\" y=\"299.518125\" style=\"stroke: #000000; stroke-width: 0.8\"/>\n      </g>\n     </g>\n     <g id=\"text_23\">\n      <!-- 75 -->\n      <g transform=\"translate(681.889168 314.116563)scale(0.1 -0.1)\">\n       <use xlink:href=\"#DejaVuSans-37\"/>\n       <use xlink:href=\"#DejaVuSans-35\" x=\"63.623047\"/>\n      </g>\n     </g>\n    </g>\n    <g id=\"xtick_14\">\n     <g id=\"line2d_22\">\n      <g>\n       <use xlink:href=\"#me14dc14d67\" x=\"734.599108\" y=\"299.518125\" style=\"stroke: #000000; stroke-width: 0.8\"/>\n      </g>\n     </g>\n     <g id=\"text_24\">\n      <!-- 100 -->\n      <g transform=\"translate(725.055358 314.116563)scale(0.1 -0.1)\">\n       <use xlink:href=\"#DejaVuSans-31\"/>\n       <use xlink:href=\"#DejaVuSans-30\" x=\"63.623047\"/>\n       <use xlink:href=\"#DejaVuSans-30\" x=\"127.246094\"/>\n      </g>\n     </g>\n    </g>\n    <g id=\"xtick_15\">\n     <g id=\"line2d_23\">\n      <g>\n       <use xlink:href=\"#me14dc14d67\" x=\"780.946548\" y=\"299.518125\" style=\"stroke: #000000; stroke-width: 0.8\"/>\n      </g>\n     </g>\n     <g id=\"text_25\">\n      <!-- 125 -->\n      <g transform=\"translate(771.402798 314.116563)scale(0.1 -0.1)\">\n       <use xlink:href=\"#DejaVuSans-31\"/>\n       <use xlink:href=\"#DejaVuSans-32\" x=\"63.623047\"/>\n       <use xlink:href=\"#DejaVuSans-35\" x=\"127.246094\"/>\n      </g>\n     </g>\n    </g>\n    <g id=\"xtick_16\">\n     <g id=\"line2d_24\">\n      <g>\n       <use xlink:href=\"#me14dc14d67\" x=\"827.293987\" y=\"299.518125\" style=\"stroke: #000000; stroke-width: 0.8\"/>\n      </g>\n     </g>\n     <g id=\"text_26\">\n      <!-- 150 -->\n      <g transform=\"translate(817.750237 314.116563)scale(0.1 -0.1)\">\n       <use xlink:href=\"#DejaVuSans-31\"/>\n       <use xlink:href=\"#DejaVuSans-35\" x=\"63.623047\"/>\n       <use xlink:href=\"#DejaVuSans-30\" x=\"127.246094\"/>\n      </g>\n     </g>\n    </g>\n    <g id=\"xtick_17\">\n     <g id=\"line2d_25\">\n      <g>\n       <use xlink:href=\"#me14dc14d67\" x=\"873.641427\" y=\"299.518125\" style=\"stroke: #000000; stroke-width: 0.8\"/>\n      </g>\n     </g>\n     <g id=\"text_27\">\n      <!-- 175 -->\n      <g transform=\"translate(864.097677 314.116563)scale(0.1 -0.1)\">\n       <use xlink:href=\"#DejaVuSans-31\"/>\n       <use xlink:href=\"#DejaVuSans-37\" x=\"63.623047\"/>\n       <use xlink:href=\"#DejaVuSans-35\" x=\"127.246094\"/>\n      </g>\n     </g>\n    </g>\n    <g id=\"xtick_18\">\n     <g id=\"line2d_26\">\n      <g>\n       <use xlink:href=\"#me14dc14d67\" x=\"919.988867\" y=\"299.518125\" style=\"stroke: #000000; stroke-width: 0.8\"/>\n      </g>\n     </g>\n     <g id=\"text_28\">\n      <!-- 200 -->\n      <g transform=\"translate(910.445117 314.116563)scale(0.1 -0.1)\">\n       <use xlink:href=\"#DejaVuSans-32\"/>\n       <use xlink:href=\"#DejaVuSans-30\" x=\"63.623047\"/>\n       <use xlink:href=\"#DejaVuSans-30\" x=\"127.246094\"/>\n      </g>\n     </g>\n    </g>\n    <g id=\"text_29\">\n     <!-- Epochs -->\n     <g transform=\"translate(715.756534 327.794688)scale(0.1 -0.1)\">\n      <use xlink:href=\"#DejaVuSans-45\"/>\n      <use xlink:href=\"#DejaVuSans-70\" x=\"63.183594\"/>\n      <use xlink:href=\"#DejaVuSans-6f\" x=\"126.660156\"/>\n      <use xlink:href=\"#DejaVuSans-63\" x=\"187.841797\"/>\n      <use xlink:href=\"#DejaVuSans-68\" x=\"242.822266\"/>\n      <use xlink:href=\"#DejaVuSans-73\" x=\"306.201172\"/>\n     </g>\n    </g>\n   </g>\n   <g id=\"matplotlib.axis_4\">\n    <g id=\"ytick_8\">\n     <g id=\"line2d_27\">\n      <g>\n       <use xlink:href=\"#mc2d7efbb7a\" x=\"530.763068\" y=\"299.518125\" style=\"stroke: #000000; stroke-width: 0.8\"/>\n      </g>\n     </g>\n     <g id=\"text_30\">\n      <!-- 10 -->\n      <g transform=\"translate(511.038068 303.317344)scale(0.1 -0.1)\">\n       <use xlink:href=\"#DejaVuSans-31\"/>\n       <use xlink:href=\"#DejaVuSans-30\" x=\"63.623047\"/>\n      </g>\n     </g>\n    </g>\n    <g id=\"ytick_9\">\n     <g id=\"line2d_28\">\n      <g>\n       <use xlink:href=\"#mc2d7efbb7a\" x=\"530.763068\" y=\"268.718125\" style=\"stroke: #000000; stroke-width: 0.8\"/>\n      </g>\n     </g>\n     <g id=\"text_31\">\n      <!-- 20 -->\n      <g transform=\"translate(511.038068 272.517344)scale(0.1 -0.1)\">\n       <use xlink:href=\"#DejaVuSans-32\"/>\n       <use xlink:href=\"#DejaVuSans-30\" x=\"63.623047\"/>\n      </g>\n     </g>\n    </g>\n    <g id=\"ytick_10\">\n     <g id=\"line2d_29\">\n      <g>\n       <use xlink:href=\"#mc2d7efbb7a\" x=\"530.763068\" y=\"237.918125\" style=\"stroke: #000000; stroke-width: 0.8\"/>\n      </g>\n     </g>\n     <g id=\"text_32\">\n      <!-- 30 -->\n      <g transform=\"translate(511.038068 241.717344)scale(0.1 -0.1)\">\n       <use xlink:href=\"#DejaVuSans-33\"/>\n       <use xlink:href=\"#DejaVuSans-30\" x=\"63.623047\"/>\n      </g>\n     </g>\n    </g>\n    <g id=\"ytick_11\">\n     <g id=\"line2d_30\">\n      <g>\n       <use xlink:href=\"#mc2d7efbb7a\" x=\"530.763068\" y=\"207.118125\" style=\"stroke: #000000; stroke-width: 0.8\"/>\n      </g>\n     </g>\n     <g id=\"text_33\">\n      <!-- 40 -->\n      <g transform=\"translate(511.038068 210.917344)scale(0.1 -0.1)\">\n       <defs>\n        <path id=\"DejaVuSans-34\" d=\"M 2419 4116 \nL 825 1625 \nL 2419 1625 \nL 2419 4116 \nz\nM 2253 4666 \nL 3047 4666 \nL 3047 1625 \nL 3713 1625 \nL 3713 1100 \nL 3047 1100 \nL 3047 0 \nL 2419 0 \nL 2419 1100 \nL 313 1100 \nL 313 1709 \nL 2253 4666 \nz\n\" transform=\"scale(0.015625)\"/>\n       </defs>\n       <use xlink:href=\"#DejaVuSans-34\"/>\n       <use xlink:href=\"#DejaVuSans-30\" x=\"63.623047\"/>\n      </g>\n     </g>\n    </g>\n    <g id=\"ytick_12\">\n     <g id=\"line2d_31\">\n      <g>\n       <use xlink:href=\"#mc2d7efbb7a\" x=\"530.763068\" y=\"176.318125\" style=\"stroke: #000000; stroke-width: 0.8\"/>\n      </g>\n     </g>\n     <g id=\"text_34\">\n      <!-- 50 -->\n      <g transform=\"translate(511.038068 180.117344)scale(0.1 -0.1)\">\n       <use xlink:href=\"#DejaVuSans-35\"/>\n       <use xlink:href=\"#DejaVuSans-30\" x=\"63.623047\"/>\n      </g>\n     </g>\n    </g>\n    <g id=\"ytick_13\">\n     <g id=\"line2d_32\">\n      <g>\n       <use xlink:href=\"#mc2d7efbb7a\" x=\"530.763068\" y=\"145.518125\" style=\"stroke: #000000; stroke-width: 0.8\"/>\n      </g>\n     </g>\n     <g id=\"text_35\">\n      <!-- 60 -->\n      <g transform=\"translate(511.038068 149.317344)scale(0.1 -0.1)\">\n       <defs>\n        <path id=\"DejaVuSans-36\" d=\"M 2113 2584 \nQ 1688 2584 1439 2293 \nQ 1191 2003 1191 1497 \nQ 1191 994 1439 701 \nQ 1688 409 2113 409 \nQ 2538 409 2786 701 \nQ 3034 994 3034 1497 \nQ 3034 2003 2786 2293 \nQ 2538 2584 2113 2584 \nz\nM 3366 4563 \nL 3366 3988 \nQ 3128 4100 2886 4159 \nQ 2644 4219 2406 4219 \nQ 1781 4219 1451 3797 \nQ 1122 3375 1075 2522 \nQ 1259 2794 1537 2939 \nQ 1816 3084 2150 3084 \nQ 2853 3084 3261 2657 \nQ 3669 2231 3669 1497 \nQ 3669 778 3244 343 \nQ 2819 -91 2113 -91 \nQ 1303 -91 875 529 \nQ 447 1150 447 2328 \nQ 447 3434 972 4092 \nQ 1497 4750 2381 4750 \nQ 2619 4750 2861 4703 \nQ 3103 4656 3366 4563 \nz\n\" transform=\"scale(0.015625)\"/>\n       </defs>\n       <use xlink:href=\"#DejaVuSans-36\"/>\n       <use xlink:href=\"#DejaVuSans-30\" x=\"63.623047\"/>\n      </g>\n     </g>\n    </g>\n    <g id=\"ytick_14\">\n     <g id=\"line2d_33\">\n      <g>\n       <use xlink:href=\"#mc2d7efbb7a\" x=\"530.763068\" y=\"114.718125\" style=\"stroke: #000000; stroke-width: 0.8\"/>\n      </g>\n     </g>\n     <g id=\"text_36\">\n      <!-- 70 -->\n      <g transform=\"translate(511.038068 118.517344)scale(0.1 -0.1)\">\n       <use xlink:href=\"#DejaVuSans-37\"/>\n       <use xlink:href=\"#DejaVuSans-30\" x=\"63.623047\"/>\n      </g>\n     </g>\n    </g>\n    <g id=\"ytick_15\">\n     <g id=\"line2d_34\">\n      <g>\n       <use xlink:href=\"#mc2d7efbb7a\" x=\"530.763068\" y=\"83.918125\" style=\"stroke: #000000; stroke-width: 0.8\"/>\n      </g>\n     </g>\n     <g id=\"text_37\">\n      <!-- 80 -->\n      <g transform=\"translate(511.038068 87.717344)scale(0.1 -0.1)\">\n       <defs>\n        <path id=\"DejaVuSans-38\" d=\"M 2034 2216 \nQ 1584 2216 1326 1975 \nQ 1069 1734 1069 1313 \nQ 1069 891 1326 650 \nQ 1584 409 2034 409 \nQ 2484 409 2743 651 \nQ 3003 894 3003 1313 \nQ 3003 1734 2745 1975 \nQ 2488 2216 2034 2216 \nz\nM 1403 2484 \nQ 997 2584 770 2862 \nQ 544 3141 544 3541 \nQ 544 4100 942 4425 \nQ 1341 4750 2034 4750 \nQ 2731 4750 3128 4425 \nQ 3525 4100 3525 3541 \nQ 3525 3141 3298 2862 \nQ 3072 2584 2669 2484 \nQ 3125 2378 3379 2068 \nQ 3634 1759 3634 1313 \nQ 3634 634 3220 271 \nQ 2806 -91 2034 -91 \nQ 1263 -91 848 271 \nQ 434 634 434 1313 \nQ 434 1759 690 2068 \nQ 947 2378 1403 2484 \nz\nM 1172 3481 \nQ 1172 3119 1398 2916 \nQ 1625 2713 2034 2713 \nQ 2441 2713 2670 2916 \nQ 2900 3119 2900 3481 \nQ 2900 3844 2670 4047 \nQ 2441 4250 2034 4250 \nQ 1625 4250 1398 4047 \nQ 1172 3844 1172 3481 \nz\n\" transform=\"scale(0.015625)\"/>\n       </defs>\n       <use xlink:href=\"#DejaVuSans-38\"/>\n       <use xlink:href=\"#DejaVuSans-30\" x=\"63.623047\"/>\n      </g>\n     </g>\n    </g>\n    <g id=\"ytick_16\">\n     <g id=\"line2d_35\">\n      <g>\n       <use xlink:href=\"#mc2d7efbb7a\" x=\"530.763068\" y=\"53.118125\" style=\"stroke: #000000; stroke-width: 0.8\"/>\n      </g>\n     </g>\n     <g id=\"text_38\">\n      <!-- 90 -->\n      <g transform=\"translate(511.038068 56.917344)scale(0.1 -0.1)\">\n       <defs>\n        <path id=\"DejaVuSans-39\" d=\"M 703 97 \nL 703 672 \nQ 941 559 1184 500 \nQ 1428 441 1663 441 \nQ 2288 441 2617 861 \nQ 2947 1281 2994 2138 \nQ 2813 1869 2534 1725 \nQ 2256 1581 1919 1581 \nQ 1219 1581 811 2004 \nQ 403 2428 403 3163 \nQ 403 3881 828 4315 \nQ 1253 4750 1959 4750 \nQ 2769 4750 3195 4129 \nQ 3622 3509 3622 2328 \nQ 3622 1225 3098 567 \nQ 2575 -91 1691 -91 \nQ 1453 -91 1209 -44 \nQ 966 3 703 97 \nz\nM 1959 2075 \nQ 2384 2075 2632 2365 \nQ 2881 2656 2881 3163 \nQ 2881 3666 2632 3958 \nQ 2384 4250 1959 4250 \nQ 1534 4250 1286 3958 \nQ 1038 3666 1038 3163 \nQ 1038 2656 1286 2365 \nQ 1534 2075 1959 2075 \nz\n\" transform=\"scale(0.015625)\"/>\n       </defs>\n       <use xlink:href=\"#DejaVuSans-39\"/>\n       <use xlink:href=\"#DejaVuSans-30\" x=\"63.623047\"/>\n      </g>\n     </g>\n    </g>\n    <g id=\"ytick_17\">\n     <g id=\"line2d_36\">\n      <g>\n       <use xlink:href=\"#mc2d7efbb7a\" x=\"530.763068\" y=\"22.318125\" style=\"stroke: #000000; stroke-width: 0.8\"/>\n      </g>\n     </g>\n     <g id=\"text_39\">\n      <!-- 100 -->\n      <g transform=\"translate(504.675568 26.117344)scale(0.1 -0.1)\">\n       <use xlink:href=\"#DejaVuSans-31\"/>\n       <use xlink:href=\"#DejaVuSans-30\" x=\"63.623047\"/>\n       <use xlink:href=\"#DejaVuSans-30\" x=\"127.246094\"/>\n      </g>\n     </g>\n    </g>\n    <g id=\"text_40\">\n     <!-- Accuracy (%) -->\n     <g transform=\"translate(498.595881 193.987656)rotate(-90)scale(0.1 -0.1)\">\n      <defs>\n       <path id=\"DejaVuSans-41\" d=\"M 2188 4044 \nL 1331 1722 \nL 3047 1722 \nL 2188 4044 \nz\nM 1831 4666 \nL 2547 4666 \nL 4325 0 \nL 3669 0 \nL 3244 1197 \nL 1141 1197 \nL 716 0 \nL 50 0 \nL 1831 4666 \nz\n\" transform=\"scale(0.015625)\"/>\n       <path id=\"DejaVuSans-75\" d=\"M 544 1381 \nL 544 3500 \nL 1119 3500 \nL 1119 1403 \nQ 1119 906 1312 657 \nQ 1506 409 1894 409 \nQ 2359 409 2629 706 \nQ 2900 1003 2900 1516 \nL 2900 3500 \nL 3475 3500 \nL 3475 0 \nL 2900 0 \nL 2900 538 \nQ 2691 219 2414 64 \nQ 2138 -91 1772 -91 \nQ 1169 -91 856 284 \nQ 544 659 544 1381 \nz\nM 1991 3584 \nL 1991 3584 \nz\n\" transform=\"scale(0.015625)\"/>\n       <path id=\"DejaVuSans-72\" d=\"M 2631 2963 \nQ 2534 3019 2420 3045 \nQ 2306 3072 2169 3072 \nQ 1681 3072 1420 2755 \nQ 1159 2438 1159 1844 \nL 1159 0 \nL 581 0 \nL 581 3500 \nL 1159 3500 \nL 1159 2956 \nQ 1341 3275 1631 3429 \nQ 1922 3584 2338 3584 \nQ 2397 3584 2469 3576 \nQ 2541 3569 2628 3553 \nL 2631 2963 \nz\n\" transform=\"scale(0.015625)\"/>\n       <path id=\"DejaVuSans-61\" d=\"M 2194 1759 \nQ 1497 1759 1228 1600 \nQ 959 1441 959 1056 \nQ 959 750 1161 570 \nQ 1363 391 1709 391 \nQ 2188 391 2477 730 \nQ 2766 1069 2766 1631 \nL 2766 1759 \nL 2194 1759 \nz\nM 3341 1997 \nL 3341 0 \nL 2766 0 \nL 2766 531 \nQ 2569 213 2275 61 \nQ 1981 -91 1556 -91 \nQ 1019 -91 701 211 \nQ 384 513 384 1019 \nQ 384 1609 779 1909 \nQ 1175 2209 1959 2209 \nL 2766 2209 \nL 2766 2266 \nQ 2766 2663 2505 2880 \nQ 2244 3097 1772 3097 \nQ 1472 3097 1187 3025 \nQ 903 2953 641 2809 \nL 641 3341 \nQ 956 3463 1253 3523 \nQ 1550 3584 1831 3584 \nQ 2591 3584 2966 3190 \nQ 3341 2797 3341 1997 \nz\n\" transform=\"scale(0.015625)\"/>\n       <path id=\"DejaVuSans-79\" d=\"M 2059 -325 \nQ 1816 -950 1584 -1140 \nQ 1353 -1331 966 -1331 \nL 506 -1331 \nL 506 -850 \nL 844 -850 \nQ 1081 -850 1212 -737 \nQ 1344 -625 1503 -206 \nL 1606 56 \nL 191 3500 \nL 800 3500 \nL 1894 763 \nL 2988 3500 \nL 3597 3500 \nL 2059 -325 \nz\n\" transform=\"scale(0.015625)\"/>\n       <path id=\"DejaVuSans-28\" d=\"M 1984 4856 \nQ 1566 4138 1362 3434 \nQ 1159 2731 1159 2009 \nQ 1159 1288 1364 580 \nQ 1569 -128 1984 -844 \nL 1484 -844 \nQ 1016 -109 783 600 \nQ 550 1309 550 2009 \nQ 550 2706 781 3412 \nQ 1013 4119 1484 4856 \nL 1984 4856 \nz\n\" transform=\"scale(0.015625)\"/>\n       <path id=\"DejaVuSans-25\" d=\"M 4653 2053 \nQ 4381 2053 4226 1822 \nQ 4072 1591 4072 1178 \nQ 4072 772 4226 539 \nQ 4381 306 4653 306 \nQ 4919 306 5073 539 \nQ 5228 772 5228 1178 \nQ 5228 1588 5073 1820 \nQ 4919 2053 4653 2053 \nz\nM 4653 2450 \nQ 5147 2450 5437 2106 \nQ 5728 1763 5728 1178 \nQ 5728 594 5436 251 \nQ 5144 -91 4653 -91 \nQ 4153 -91 3862 251 \nQ 3572 594 3572 1178 \nQ 3572 1766 3864 2108 \nQ 4156 2450 4653 2450 \nz\nM 1428 4353 \nQ 1159 4353 1004 4120 \nQ 850 3888 850 3481 \nQ 850 3069 1003 2837 \nQ 1156 2606 1428 2606 \nQ 1700 2606 1854 2837 \nQ 2009 3069 2009 3481 \nQ 2009 3884 1853 4118 \nQ 1697 4353 1428 4353 \nz\nM 4250 4750 \nL 4750 4750 \nL 1831 -91 \nL 1331 -91 \nL 4250 4750 \nz\nM 1428 4750 \nQ 1922 4750 2215 4408 \nQ 2509 4066 2509 3481 \nQ 2509 2891 2217 2550 \nQ 1925 2209 1428 2209 \nQ 931 2209 642 2551 \nQ 353 2894 353 3481 \nQ 353 4063 643 4406 \nQ 934 4750 1428 4750 \nz\n\" transform=\"scale(0.015625)\"/>\n       <path id=\"DejaVuSans-29\" d=\"M 513 4856 \nL 1013 4856 \nQ 1481 4119 1714 3412 \nQ 1947 2706 1947 2009 \nQ 1947 1309 1714 600 \nQ 1481 -109 1013 -844 \nL 513 -844 \nQ 928 -128 1133 580 \nQ 1338 1288 1338 2009 \nQ 1338 2731 1133 3434 \nQ 928 4138 513 4856 \nz\n\" transform=\"scale(0.015625)\"/>\n      </defs>\n      <use xlink:href=\"#DejaVuSans-41\"/>\n      <use xlink:href=\"#DejaVuSans-63\" x=\"66.658203\"/>\n      <use xlink:href=\"#DejaVuSans-63\" x=\"121.638672\"/>\n      <use xlink:href=\"#DejaVuSans-75\" x=\"176.619141\"/>\n      <use xlink:href=\"#DejaVuSans-72\" x=\"239.998047\"/>\n      <use xlink:href=\"#DejaVuSans-61\" x=\"281.111328\"/>\n      <use xlink:href=\"#DejaVuSans-63\" x=\"342.390625\"/>\n      <use xlink:href=\"#DejaVuSans-79\" x=\"397.371094\"/>\n      <use xlink:href=\"#DejaVuSans-20\" x=\"456.550781\"/>\n      <use xlink:href=\"#DejaVuSans-28\" x=\"488.337891\"/>\n      <use xlink:href=\"#DejaVuSans-25\" x=\"527.351562\"/>\n      <use xlink:href=\"#DejaVuSans-29\" x=\"622.371094\"/>\n     </g>\n    </g>\n   </g>\n   <g id=\"line2d_37\">\n    <path d=\"M 549.209349 184.56812 \nL 551.063247 150.193123 \nL 552.917144 163.943127 \nL 554.771042 168.06813 \nL 556.62494 136.44312 \nL 558.478837 147.443125 \nL 560.332735 136.44312 \nL 562.186632 130.943135 \nL 564.04053 115.818115 \nL 565.894427 125.443115 \nL 567.748325 128.193125 \nL 569.602223 118.568125 \nL 571.45612 115.818115 \nL 573.310018 104.818122 \nL 577.017813 107.568132 \nL 578.871711 86.943115 \nL 580.725608 96.568115 \nL 582.579506 107.568132 \nL 584.433403 92.443135 \nL 586.287301 100.693118 \nL 588.141199 96.568115 \nL 589.995096 91.068118 \nL 591.848994 104.818122 \nL 593.702891 104.818122 \nL 595.556789 97.943132 \nL 597.410686 93.818128 \nL 599.264584 100.693118 \nL 601.118482 81.443118 \nL 602.972379 106.193115 \nL 604.826277 89.693125 \nL 606.680174 86.943115 \nL 608.534072 88.318132 \nL 610.38797 88.318132 \nL 612.241867 107.568132 \nL 614.095765 84.193128 \nL 615.949662 86.943115 \nL 617.80356 103.443128 \nL 619.657457 92.443135 \nL 621.511355 86.943115 \nL 623.365253 99.318125 \nL 625.21915 95.193122 \nL 627.073048 95.193122 \nL 628.926945 84.193128 \nL 630.780843 92.443135 \nL 632.634741 86.943115 \nL 634.488638 82.818135 \nL 636.342536 85.568122 \nL 638.196433 78.693132 \nL 640.050331 85.568122 \nL 641.904229 85.568122 \nL 643.758126 84.193128 \nL 645.612024 89.693125 \nL 647.465921 99.318125 \nL 649.319819 91.068118 \nL 651.173716 99.318125 \nL 653.027614 96.568115 \nL 654.881512 86.943115 \nL 656.735409 84.193128 \nL 658.589307 100.693118 \nL 660.443204 78.693132 \nL 662.297102 91.068118 \nL 664.151 84.193128 \nL 666.004897 78.693132 \nL 667.858795 97.943132 \nL 669.712692 92.443135 \nL 671.56659 85.568122 \nL 673.420488 81.443118 \nL 675.274385 84.193128 \nL 677.128283 91.068118 \nL 678.98218 95.193122 \nL 680.836078 82.818135 \nL 682.689975 88.318132 \nL 684.543873 78.693132 \nL 686.397771 85.568122 \nL 688.251668 86.943115 \nL 690.105566 81.443118 \nL 691.959463 86.943115 \nL 693.813361 82.818135 \nL 695.667259 77.318115 \nL 697.521156 86.943115 \nL 701.228951 84.193128 \nL 704.936746 84.193128 \nL 706.790644 92.443135 \nL 708.644542 95.193122 \nL 712.352337 70.443125 \nL 714.206234 74.568128 \nL 716.060132 91.068118 \nL 717.91403 86.943115 \nL 719.767927 85.568122 \nL 723.475722 85.568122 \nL 725.32962 82.818135 \nL 727.183518 97.943132 \nL 729.037415 89.693125 \nL 730.891313 78.693132 \nL 732.74521 75.943122 \nL 734.599108 80.068125 \nL 736.453005 78.693132 \nL 740.160801 81.443118 \nL 742.014698 62.193118 \nL 743.868596 82.818135 \nL 745.722493 82.818135 \nL 747.576391 75.943122 \nL 749.430289 78.693132 \nL 751.284186 66.318122 \nL 753.138084 80.068125 \nL 754.991981 88.318132 \nL 756.845879 80.068125 \nL 758.699777 91.068118 \nL 760.553674 77.318115 \nL 762.407572 78.693132 \nL 764.261469 97.943132 \nL 766.115367 88.318132 \nL 767.969264 86.943115 \nL 769.823162 75.943122 \nL 771.67706 74.568128 \nL 773.530957 85.568122 \nL 775.384855 81.443118 \nL 777.238752 82.818135 \nL 779.09265 74.568128 \nL 780.946548 91.068118 \nL 782.800445 74.568128 \nL 784.654343 78.693132 \nL 786.50824 77.318115 \nL 788.362138 78.693132 \nL 790.216035 89.693125 \nL 792.069933 74.568128 \nL 793.923831 84.193128 \nL 795.777728 78.693132 \nL 797.631626 82.818135 \nL 799.485523 85.568122 \nL 801.339421 85.568122 \nL 803.193319 78.693132 \nL 805.047216 74.568128 \nL 806.901114 75.943122 \nL 808.755011 64.943128 \nL 810.608909 78.693132 \nL 812.462807 71.818118 \nL 814.316704 69.068132 \nL 816.170602 77.318115 \nL 818.024499 66.318122 \nL 819.878397 80.068125 \nL 821.732294 82.818135 \nL 823.586192 77.318115 \nL 825.44009 88.318132 \nL 827.293987 78.693132 \nL 829.147885 74.568128 \nL 831.001782 77.318115 \nL 832.85568 91.068118 \nL 834.709578 63.568135 \nL 836.563475 82.818135 \nL 838.417373 74.568128 \nL 842.125168 71.818118 \nL 843.979066 91.068118 \nL 845.832963 75.943122 \nL 847.686861 77.318115 \nL 849.540758 77.318115 \nL 851.394656 71.818118 \nL 853.248553 82.818135 \nL 855.102451 77.318115 \nL 856.956349 77.318115 \nL 858.810246 88.318132 \nL 860.664144 74.568128 \nL 862.518041 71.818118 \nL 864.371939 82.818135 \nL 866.225837 71.818118 \nL 868.079734 75.943122 \nL 869.933632 69.068132 \nL 871.787529 69.068132 \nL 873.641427 85.568122 \nL 875.495325 82.818135 \nL 877.349222 75.943122 \nL 879.20312 74.568128 \nL 881.057017 70.443125 \nL 882.910915 80.068125 \nL 884.764812 73.193135 \nL 886.61871 77.318115 \nL 888.472608 80.068125 \nL 890.326505 67.693115 \nL 892.180403 77.318115 \nL 894.0343 81.443118 \nL 895.888198 78.693132 \nL 897.742096 67.693115 \nL 899.595993 69.068132 \nL 901.449891 75.943122 \nL 903.303788 84.193128 \nL 907.011583 70.443125 \nL 908.865481 85.568122 \nL 910.719379 81.443118 \nL 912.573276 66.318122 \nL 914.427174 64.943128 \nL 918.134969 73.193135 \nL 918.134969 73.193135 \n\" clip-path=\"url(#p5bd2e02762)\" style=\"fill: none; stroke: #1f77b4; stroke-width: 1.5; stroke-linecap: square\"/>\n   </g>\n   <g id=\"line2d_38\">\n    <path d=\"M 549.209349 186.584788 \nL 552.917144 124.984776 \nL 556.62494 124.984776 \nL 558.478837 114.718125 \nL 560.332735 53.118125 \nL 562.186632 63.384799 \nL 565.894427 63.384799 \nL 567.748325 53.118125 \nL 617.80356 53.118125 \nL 619.657457 63.384799 \nL 636.342536 63.384799 \nL 638.196433 53.118125 \nL 645.612024 53.118125 \nL 647.465921 63.384799 \nL 649.319819 53.118125 \nL 662.297102 53.118125 \nL 666.004897 73.651474 \nL 667.858795 53.118125 \nL 669.712692 63.384799 \nL 671.56659 53.118125 \nL 673.420488 53.118125 \nL 675.274385 63.384799 \nL 677.128283 53.118125 \nL 678.98218 53.118125 \nL 680.836078 73.651474 \nL 682.689975 53.118125 \nL 684.543873 63.384799 \nL 688.251668 63.384799 \nL 690.105566 53.118125 \nL 691.959463 63.384799 \nL 701.228951 63.384799 \nL 703.082849 53.118125 \nL 704.936746 53.118125 \nL 706.790644 63.384799 \nL 710.498439 63.384799 \nL 712.352337 53.118125 \nL 716.060132 53.118125 \nL 717.91403 63.384799 \nL 719.767927 53.118125 \nL 721.621825 63.384799 \nL 727.183518 63.384799 \nL 729.037415 53.118125 \nL 730.891313 53.118125 \nL 734.599108 73.651474 \nL 736.453005 53.118125 \nL 738.306903 73.651474 \nL 740.160801 63.384799 \nL 742.014698 63.384799 \nL 743.868596 53.118125 \nL 745.722493 63.384799 \nL 747.576391 53.118125 \nL 749.430289 73.651474 \nL 751.284186 53.118125 \nL 754.991981 53.118125 \nL 756.845879 63.384799 \nL 758.699777 53.118125 \nL 760.553674 53.118125 \nL 762.407572 73.651474 \nL 764.261469 73.651474 \nL 767.969264 53.118125 \nL 769.823162 53.118125 \nL 771.67706 63.384799 \nL 773.530957 53.118125 \nL 775.384855 63.384799 \nL 777.238752 53.118125 \nL 779.09265 63.384799 \nL 780.946548 53.118125 \nL 801.339421 53.118125 \nL 803.193319 63.384799 \nL 805.047216 53.118125 \nL 816.170602 53.118125 \nL 818.024499 63.384799 \nL 819.878397 53.118125 \nL 823.586192 53.118125 \nL 825.44009 63.384799 \nL 827.293987 53.118125 \nL 838.417373 53.118125 \nL 840.27127 63.384799 \nL 842.125168 63.384799 \nL 843.979066 53.118125 \nL 845.832963 73.651474 \nL 847.686861 83.918125 \nL 849.540758 73.651474 \nL 851.394656 53.118125 \nL 853.248553 63.384799 \nL 855.102451 53.118125 \nL 856.956349 73.651474 \nL 858.810246 73.651474 \nL 860.664144 63.384799 \nL 868.079734 63.384799 \nL 869.933632 73.651474 \nL 875.495325 73.651474 \nL 877.349222 83.918125 \nL 879.20312 73.651474 \nL 888.472608 73.651474 \nL 890.326505 53.118125 \nL 892.180403 73.651474 \nL 895.888198 73.651474 \nL 897.742096 53.118125 \nL 899.595993 73.651474 \nL 901.449891 53.118125 \nL 903.303788 73.651474 \nL 912.573276 73.651474 \nL 914.427174 53.118125 \nL 918.134969 73.651474 \nL 918.134969 73.651474 \n\" clip-path=\"url(#p5bd2e02762)\" style=\"fill: none; stroke: #ff7f0e; stroke-width: 1.5; stroke-linecap: square\"/>\n   </g>\n   <g id=\"patch_8\">\n    <path d=\"M 530.763068 299.518125 \nL 530.763068 22.318125 \n\" style=\"fill: none; stroke: #000000; stroke-width: 0.8; stroke-linejoin: miter; stroke-linecap: square\"/>\n   </g>\n   <g id=\"patch_9\">\n    <path d=\"M 936.58125 299.518125 \nL 936.58125 22.318125 \n\" style=\"fill: none; stroke: #000000; stroke-width: 0.8; stroke-linejoin: miter; stroke-linecap: square\"/>\n   </g>\n   <g id=\"patch_10\">\n    <path d=\"M 530.763068 299.518125 \nL 936.58125 299.518125 \n\" style=\"fill: none; stroke: #000000; stroke-width: 0.8; stroke-linejoin: miter; stroke-linecap: square\"/>\n   </g>\n   <g id=\"patch_11\">\n    <path d=\"M 530.763068 22.318125 \nL 936.58125 22.318125 \n\" style=\"fill: none; stroke: #000000; stroke-width: 0.8; stroke-linejoin: miter; stroke-linecap: square\"/>\n   </g>\n   <g id=\"text_41\">\n    <!-- Final model test accuracy: 83.33% -->\n    <g transform=\"translate(630.474972 16.318125)scale(0.12 -0.12)\">\n     <defs>\n      <path id=\"DejaVuSans-46\" d=\"M 628 4666 \nL 3309 4666 \nL 3309 4134 \nL 1259 4134 \nL 1259 2759 \nL 3109 2759 \nL 3109 2228 \nL 1259 2228 \nL 1259 0 \nL 628 0 \nL 628 4666 \nz\n\" transform=\"scale(0.015625)\"/>\n      <path id=\"DejaVuSans-69\" d=\"M 603 3500 \nL 1178 3500 \nL 1178 0 \nL 603 0 \nL 603 3500 \nz\nM 603 4863 \nL 1178 4863 \nL 1178 4134 \nL 603 4134 \nL 603 4863 \nz\n\" transform=\"scale(0.015625)\"/>\n      <path id=\"DejaVuSans-6e\" d=\"M 3513 2113 \nL 3513 0 \nL 2938 0 \nL 2938 2094 \nQ 2938 2591 2744 2837 \nQ 2550 3084 2163 3084 \nQ 1697 3084 1428 2787 \nQ 1159 2491 1159 1978 \nL 1159 0 \nL 581 0 \nL 581 3500 \nL 1159 3500 \nL 1159 2956 \nQ 1366 3272 1645 3428 \nQ 1925 3584 2291 3584 \nQ 2894 3584 3203 3211 \nQ 3513 2838 3513 2113 \nz\n\" transform=\"scale(0.015625)\"/>\n      <path id=\"DejaVuSans-6d\" d=\"M 3328 2828 \nQ 3544 3216 3844 3400 \nQ 4144 3584 4550 3584 \nQ 5097 3584 5394 3201 \nQ 5691 2819 5691 2113 \nL 5691 0 \nL 5113 0 \nL 5113 2094 \nQ 5113 2597 4934 2840 \nQ 4756 3084 4391 3084 \nQ 3944 3084 3684 2787 \nQ 3425 2491 3425 1978 \nL 3425 0 \nL 2847 0 \nL 2847 2094 \nQ 2847 2600 2669 2842 \nQ 2491 3084 2119 3084 \nQ 1678 3084 1418 2786 \nQ 1159 2488 1159 1978 \nL 1159 0 \nL 581 0 \nL 581 3500 \nL 1159 3500 \nL 1159 2956 \nQ 1356 3278 1631 3431 \nQ 1906 3584 2284 3584 \nQ 2666 3584 2933 3390 \nQ 3200 3197 3328 2828 \nz\n\" transform=\"scale(0.015625)\"/>\n      <path id=\"DejaVuSans-74\" d=\"M 1172 4494 \nL 1172 3500 \nL 2356 3500 \nL 2356 3053 \nL 1172 3053 \nL 1172 1153 \nQ 1172 725 1289 603 \nQ 1406 481 1766 481 \nL 2356 481 \nL 2356 0 \nL 1766 0 \nQ 1100 0 847 248 \nQ 594 497 594 1153 \nL 594 3053 \nL 172 3053 \nL 172 3500 \nL 594 3500 \nL 594 4494 \nL 1172 4494 \nz\n\" transform=\"scale(0.015625)\"/>\n      <path id=\"DejaVuSans-3a\" d=\"M 750 794 \nL 1409 794 \nL 1409 0 \nL 750 0 \nL 750 794 \nz\nM 750 3309 \nL 1409 3309 \nL 1409 2516 \nL 750 2516 \nL 750 3309 \nz\n\" transform=\"scale(0.015625)\"/>\n     </defs>\n     <use xlink:href=\"#DejaVuSans-46\"/>\n     <use xlink:href=\"#DejaVuSans-69\" x=\"50.269531\"/>\n     <use xlink:href=\"#DejaVuSans-6e\" x=\"78.052734\"/>\n     <use xlink:href=\"#DejaVuSans-61\" x=\"141.431641\"/>\n     <use xlink:href=\"#DejaVuSans-6c\" x=\"202.710938\"/>\n     <use xlink:href=\"#DejaVuSans-20\" x=\"230.494141\"/>\n     <use xlink:href=\"#DejaVuSans-6d\" x=\"262.28125\"/>\n     <use xlink:href=\"#DejaVuSans-6f\" x=\"359.693359\"/>\n     <use xlink:href=\"#DejaVuSans-64\" x=\"420.875\"/>\n     <use xlink:href=\"#DejaVuSans-65\" x=\"484.351562\"/>\n     <use xlink:href=\"#DejaVuSans-6c\" x=\"545.875\"/>\n     <use xlink:href=\"#DejaVuSans-20\" x=\"573.658203\"/>\n     <use xlink:href=\"#DejaVuSans-74\" x=\"605.445312\"/>\n     <use xlink:href=\"#DejaVuSans-65\" x=\"644.654297\"/>\n     <use xlink:href=\"#DejaVuSans-73\" x=\"706.177734\"/>\n     <use xlink:href=\"#DejaVuSans-74\" x=\"758.277344\"/>\n     <use xlink:href=\"#DejaVuSans-20\" x=\"797.486328\"/>\n     <use xlink:href=\"#DejaVuSans-61\" x=\"829.273438\"/>\n     <use xlink:href=\"#DejaVuSans-63\" x=\"890.552734\"/>\n     <use xlink:href=\"#DejaVuSans-63\" x=\"945.533203\"/>\n     <use xlink:href=\"#DejaVuSans-75\" x=\"1000.513672\"/>\n     <use xlink:href=\"#DejaVuSans-72\" x=\"1063.892578\"/>\n     <use xlink:href=\"#DejaVuSans-61\" x=\"1105.005859\"/>\n     <use xlink:href=\"#DejaVuSans-63\" x=\"1166.285156\"/>\n     <use xlink:href=\"#DejaVuSans-79\" x=\"1221.265625\"/>\n     <use xlink:href=\"#DejaVuSans-3a\" x=\"1273.195312\"/>\n     <use xlink:href=\"#DejaVuSans-20\" x=\"1306.886719\"/>\n     <use xlink:href=\"#DejaVuSans-38\" x=\"1338.673828\"/>\n     <use xlink:href=\"#DejaVuSans-33\" x=\"1402.296875\"/>\n     <use xlink:href=\"#DejaVuSans-2e\" x=\"1465.919922\"/>\n     <use xlink:href=\"#DejaVuSans-33\" x=\"1497.707031\"/>\n     <use xlink:href=\"#DejaVuSans-33\" x=\"1561.330078\"/>\n     <use xlink:href=\"#DejaVuSans-25\" x=\"1624.953125\"/>\n    </g>\n   </g>\n   <g id=\"legend_1\">\n    <g id=\"patch_12\">\n     <path d=\"M 537.763068 294.518125 \nL 593.750568 294.518125 \nQ 595.750568 294.518125 595.750568 292.518125 \nL 595.750568 264.161875 \nQ 595.750568 262.161875 593.750568 262.161875 \nL 537.763068 262.161875 \nQ 535.763068 262.161875 535.763068 264.161875 \nL 535.763068 292.518125 \nQ 535.763068 294.518125 537.763068 294.518125 \nz\n\" style=\"fill: #ffffff; opacity: 0.8; stroke: #cccccc; stroke-linejoin: miter\"/>\n    </g>\n    <g id=\"line2d_39\">\n     <path d=\"M 539.763068 270.260313 \nL 549.763068 270.260313 \nL 559.763068 270.260313 \n\" style=\"fill: none; stroke: #1f77b4; stroke-width: 1.5; stroke-linecap: square\"/>\n    </g>\n    <g id=\"text_42\">\n     <!-- Train -->\n     <g transform=\"translate(567.763068 273.760313)scale(0.1 -0.1)\">\n      <defs>\n       <path id=\"DejaVuSans-54\" d=\"M -19 4666 \nL 3928 4666 \nL 3928 4134 \nL 2272 4134 \nL 2272 0 \nL 1638 0 \nL 1638 4134 \nL -19 4134 \nL -19 4666 \nz\n\" transform=\"scale(0.015625)\"/>\n      </defs>\n      <use xlink:href=\"#DejaVuSans-54\"/>\n      <use xlink:href=\"#DejaVuSans-72\" x=\"46.333984\"/>\n      <use xlink:href=\"#DejaVuSans-61\" x=\"87.447266\"/>\n      <use xlink:href=\"#DejaVuSans-69\" x=\"148.726562\"/>\n      <use xlink:href=\"#DejaVuSans-6e\" x=\"176.509766\"/>\n     </g>\n    </g>\n    <g id=\"line2d_40\">\n     <path d=\"M 539.763068 284.938438 \nL 549.763068 284.938438 \nL 559.763068 284.938438 \n\" style=\"fill: none; stroke: #ff7f0e; stroke-width: 1.5; stroke-linecap: square\"/>\n    </g>\n    <g id=\"text_43\">\n     <!-- Test -->\n     <g transform=\"translate(567.763068 288.438438)scale(0.1 -0.1)\">\n      <use xlink:href=\"#DejaVuSans-54\"/>\n      <use xlink:href=\"#DejaVuSans-65\" x=\"44.083984\"/>\n      <use xlink:href=\"#DejaVuSans-73\" x=\"105.607422\"/>\n      <use xlink:href=\"#DejaVuSans-74\" x=\"157.707031\"/>\n     </g>\n    </g>\n   </g>\n  </g>\n </g>\n <defs>\n  <clipPath id=\"p166e6346c7\">\n   <rect x=\"43.78125\" y=\"22.318125\" width=\"405.818182\" height=\"277.2\"/>\n  </clipPath>\n  <clipPath id=\"p5bd2e02762\">\n   <rect x=\"530.763068\" y=\"22.318125\" width=\"405.818182\" height=\"277.2\"/>\n  </clipPath>\n </defs>\n</svg>\n",
      "text/plain": [
       "<Figure size 1600x500 with 2 Axes>"
      ]
     },
     "metadata": {},
     "output_type": "display_data"
    }
   ],
   "source": [
    "# Display results\n",
    "fig,ax = plt.subplots(1, 2, figsize = (16, 5))\n",
    "\n",
    "ax[0].plot(losses)\n",
    "ax[0].set_xlabel(\"Epochs\")\n",
    "ax[0].set_ylabel(\"Loss\")\n",
    "ax[0].set_ylim([0, 3])\n",
    "ax[0].set_title(\"Model loss\")\n",
    "\n",
    "ax[1].plot(train_accuracy,label = \"Train\")\n",
    "ax[1].plot(test_accuracy,label = \"Test\")\n",
    "ax[1].set_xlabel(\"Epochs\")\n",
    "ax[1].set_ylabel(\"Accuracy (%)\")\n",
    "ax[1].set_ylim([10, 100])\n",
    "ax[1].set_title(f\"Final model test accuracy: {test_accuracy[-1]:.2f}%\")\n",
    "\n",
    "ax[1].legend();\n"
   ]
  }
 ],
 "metadata": {
  "kernelspec": {
   "display_name": "Python 3.8.13 ('datascience')",
   "language": "python",
   "name": "python3"
  },
  "language_info": {
   "codemirror_mode": {
    "name": "ipython",
    "version": 3
   },
   "file_extension": ".py",
   "mimetype": "text/x-python",
   "name": "python",
   "nbconvert_exporter": "python",
   "pygments_lexer": "ipython3",
   "version": "3.8.13"
  },
  "orig_nbformat": 4,
  "vscode": {
   "interpreter": {
    "hash": "d203a7fbe37afbb990fedfc21c321928443618f3d7b991e0237ff71906aa031f"
   }
  }
 },
 "nbformat": 4,
 "nbformat_minor": 2
}
